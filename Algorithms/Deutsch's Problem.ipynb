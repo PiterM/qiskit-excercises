{
 "cells": [
  {
   "cell_type": "code",
   "execution_count": 55,
   "metadata": {},
   "outputs": [
    {
     "data": {
      "text/html": [
       "<pre style=\"word-wrap: normal;white-space: pre;background: #fff0;line-height: 1.1;font-family: &quot;Courier New&quot;,Courier,monospace\">     ┌───┐      ░ \n",
       "q_0: ┤ H ├──────░─\n",
       "     ├───┤┌───┐ ░ \n",
       "q_1: ┤ X ├┤ H ├─░─\n",
       "     └───┘└───┘ ░ </pre>"
      ],
      "text/plain": [
       "     ┌───┐      ░ \n",
       "q_0: ┤ H ├──────░─\n",
       "     ├───┤┌───┐ ░ \n",
       "q_1: ┤ X ├┤ H ├─░─\n",
       "     └───┘└───┘ ░ "
      ]
     },
     "execution_count": 55,
     "metadata": {},
     "output_type": "execute_result"
    }
   ],
   "source": [
    "from ipynb.fs.full.quantum_helpers import get_counts\n",
    "from qiskit import QuantumCircuit\n",
    "\n",
    "ckt = QuantumCircuit(2)\n",
    "ckt.x(1)\n",
    "ckt.h([0, 1])\n",
    "ckt.barrier()\n",
    "ckt.draw()"
   ]
  },
  {
   "cell_type": "code",
   "execution_count": 56,
   "metadata": {},
   "outputs": [
    {
     "data": {
      "text/html": [
       "<pre style=\"word-wrap: normal;white-space: pre;background: #fff0;line-height: 1.1;font-family: &quot;Courier New&quot;,Courier,monospace\">                ░ \n",
       "q_0: ──■────────░─\n",
       "     ┌─┴─┐┌───┐ ░ \n",
       "q_1: ┤ X ├┤ X ├─░─\n",
       "     └───┘└───┘ ░ </pre>"
      ],
      "text/plain": [
       "                ░ \n",
       "q_0: ──■────────░─\n",
       "     ┌─┴─┐┌───┐ ░ \n",
       "q_1: ┤ X ├┤ X ├─░─\n",
       "     └───┘└───┘ ░ "
      ]
     },
     "execution_count": 56,
     "metadata": {},
     "output_type": "execute_result"
    }
   ],
   "source": [
    "oracle = QuantumCircuit(2)\n",
    "oracle.cx(0, 1)\n",
    "oracle.x(1)\n",
    "oracle.barrier()\n",
    "oracle.draw()"
   ]
  },
  {
   "cell_type": "code",
   "execution_count": 57,
   "metadata": {},
   "outputs": [
    {
     "data": {
      "text/html": [
       "<pre style=\"word-wrap: normal;white-space: pre;background: #fff0;line-height: 1.1;font-family: &quot;Courier New&quot;,Courier,monospace\">     ┌───┐      ░            ░ ┌───┐\n",
       "q_0: ┤ H ├──────░───■────────░─┤ H ├\n",
       "     ├───┤┌───┐ ░ ┌─┴─┐┌───┐ ░ └───┘\n",
       "q_1: ┤ X ├┤ H ├─░─┤ X ├┤ X ├─░──────\n",
       "     └───┘└───┘ ░ └───┘└───┘ ░      </pre>"
      ],
      "text/plain": [
       "     ┌───┐      ░            ░ ┌───┐\n",
       "q_0: ┤ H ├──────░───■────────░─┤ H ├\n",
       "     ├───┤┌───┐ ░ ┌─┴─┐┌───┐ ░ └───┘\n",
       "q_1: ┤ X ├┤ H ├─░─┤ X ├┤ X ├─░──────\n",
       "     └───┘└───┘ ░ └───┘└───┘ ░      "
      ]
     },
     "execution_count": 57,
     "metadata": {},
     "output_type": "execute_result"
    }
   ],
   "source": [
    "deutsch = QuantumCircuit(2)\n",
    "deutsch = deutsch.compose(ckt)\n",
    "deutsch = deutsch.compose(oracle)\n",
    "deutsch.h(0)\n",
    "deutsch.draw()"
   ]
  },
  {
   "cell_type": "code",
   "execution_count": 58,
   "metadata": {},
   "outputs": [
    {
     "data": {
      "text/plain": [
       "{'01': 478, '11': 546}"
      ]
     },
     "execution_count": 58,
     "metadata": {},
     "output_type": "execute_result"
    }
   ],
   "source": [
    "\n",
    "deutsch.measure_all()\n",
    "get_counts(deutsch)"
   ]
  },
  {
   "cell_type": "code",
   "execution_count": null,
   "metadata": {},
   "outputs": [],
   "source": []
  }
 ],
 "metadata": {
  "kernelspec": {
   "display_name": "qiskit-stable",
   "language": "python",
   "name": "python3"
  },
  "language_info": {
   "codemirror_mode": {
    "name": "ipython",
    "version": 3
   },
   "file_extension": ".py",
   "mimetype": "text/x-python",
   "name": "python",
   "nbconvert_exporter": "python",
   "pygments_lexer": "ipython3",
   "version": "3.10.9"
  },
  "orig_nbformat": 4,
  "vscode": {
   "interpreter": {
    "hash": "5e57c598d8b796f50b8e58b105692cee1ad0035480a8459f4e32847a9b3004de"
   }
  }
 },
 "nbformat": 4,
 "nbformat_minor": 2
}
