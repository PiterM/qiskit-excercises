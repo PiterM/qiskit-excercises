{
 "cells": [
  {
   "cell_type": "code",
   "execution_count": 2,
   "metadata": {},
   "outputs": [
    {
     "name": "stdout",
     "output_type": "stream",
     "text": [
      "c example DIMACS-CNF 3-SAT\n",
      "p cnf 3 5\n",
      "-1 -2 -3 0\n",
      "1 -2 3 0\n",
      "1 2 -3 0\n",
      "1 -2 -3 0\n",
      "-1 2 3 0\n"
     ]
    }
   ],
   "source": [
    "with open('3sat.dimacs', 'r', encoding='utf8') as f:\n",
    "    dimacs = f.read()\n",
    "print(dimacs)  # let's check the file is as promised"
   ]
  },
  {
   "cell_type": "code",
   "execution_count": 3,
   "metadata": {},
   "outputs": [
    {
     "data": {
      "text/html": [
       "<pre style=\"word-wrap: normal;white-space: pre;background: #fff0;line-height: 1.1;font-family: &quot;Courier New&quot;,Courier,monospace\">                          \n",
       "q_0: ─o───────o───────────\n",
       "      │ ┌───┐ │ ┌───┐┌───┐\n",
       "q_1: ─■─┤ X ├─■─┤ X ├┤ Z ├\n",
       "      │ ├───┤   └───┘└───┘\n",
       "q_2: ─o─┤ Z ├─────────────\n",
       "        └───┘             </pre>"
      ],
      "text/plain": [
       "                          \n",
       "q_0: ─o───────o───────────\n",
       "      │ ┌───┐ │ ┌───┐┌───┐\n",
       "q_1: ─■─┤ X ├─■─┤ X ├┤ Z ├\n",
       "      │ ├───┤   └───┘└───┘\n",
       "q_2: ─o─┤ Z ├─────────────\n",
       "        └───┘             "
      ]
     },
     "execution_count": 3,
     "metadata": {},
     "output_type": "execute_result"
    }
   ],
   "source": [
    "from qiskit.circuit.library import PhaseOracle\n",
    "oracle = PhaseOracle.from_dimacs_file('3sat.dimacs')\n",
    "oracle.draw()"
   ]
  },
  {
   "cell_type": "code",
   "execution_count": null,
   "metadata": {},
   "outputs": [],
   "source": []
  }
 ],
 "metadata": {
  "kernelspec": {
   "display_name": "Python 3",
   "language": "python",
   "name": "python3"
  },
  "language_info": {
   "codemirror_mode": {
    "name": "ipython",
    "version": 3
   },
   "file_extension": ".py",
   "mimetype": "text/x-python",
   "name": "python",
   "nbconvert_exporter": "python",
   "pygments_lexer": "ipython3",
   "version": "3.10.9"
  },
  "orig_nbformat": 4,
  "vscode": {
   "interpreter": {
    "hash": "e7370f93d1d0cde622a1f8e1c04877d8463912d04d973331ad4851f04de6915a"
   }
  }
 },
 "nbformat": 4,
 "nbformat_minor": 2
}
