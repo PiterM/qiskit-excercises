{
 "cells": [
  {
   "cell_type": "code",
   "execution_count": 29,
   "metadata": {},
   "outputs": [],
   "source": [
    "from qiskit import *\n",
    "from qiskit.tools.visualization import plot_histogram"
   ]
  },
  {
   "cell_type": "code",
   "execution_count": 30,
   "metadata": {},
   "outputs": [],
   "source": [
    "secret = \"110101\""
   ]
  },
  {
   "cell_type": "code",
   "execution_count": 31,
   "metadata": {},
   "outputs": [
    {
     "data": {
      "text/html": [
       "<pre style=\"word-wrap: normal;white-space: pre;background: #fff0;line-height: 1.1;font-family: &quot;Courier New&quot;,Courier,monospace\">     ┌───┐      ░ \n",
       "q_0: ┤ H ├──────░─\n",
       "     ├───┤      ░ \n",
       "q_1: ┤ H ├──────░─\n",
       "     ├───┤      ░ \n",
       "q_2: ┤ H ├──────░─\n",
       "     ├───┤      ░ \n",
       "q_3: ┤ H ├──────░─\n",
       "     ├───┤      ░ \n",
       "q_4: ┤ H ├──────░─\n",
       "     ├───┤      ░ \n",
       "q_5: ┤ H ├──────░─\n",
       "     ├───┤┌───┐ ░ \n",
       "q_6: ┤ X ├┤ H ├─░─\n",
       "     └───┘└───┘ ░ \n",
       "c: 6/═════════════\n",
       "                  </pre>"
      ],
      "text/plain": [
       "     ┌───┐      ░ \n",
       "q_0: ┤ H ├──────░─\n",
       "     ├───┤      ░ \n",
       "q_1: ┤ H ├──────░─\n",
       "     ├───┤      ░ \n",
       "q_2: ┤ H ├──────░─\n",
       "     ├───┤      ░ \n",
       "q_3: ┤ H ├──────░─\n",
       "     ├───┤      ░ \n",
       "q_4: ┤ H ├──────░─\n",
       "     ├───┤      ░ \n",
       "q_5: ┤ H ├──────░─\n",
       "     ├───┤┌───┐ ░ \n",
       "q_6: ┤ X ├┤ H ├─░─\n",
       "     └───┘└───┘ ░ \n",
       "c: 6/═════════════\n",
       "                  "
      ]
     },
     "execution_count": 31,
     "metadata": {},
     "output_type": "execute_result"
    }
   ],
   "source": [
    "ckt = QuantumCircuit(len(secret) + 1, len(secret))\n",
    "ckt.h(range(len(secret)))\n",
    "ckt.x(len(secret))\n",
    "ckt.h(len(secret))\n",
    "ckt.barrier()\n",
    "ckt.draw()\n"
   ]
  },
  {
   "cell_type": "code",
   "execution_count": 32,
   "metadata": {},
   "outputs": [
    {
     "data": {
      "text/html": [
       "<pre style=\"word-wrap: normal;white-space: pre;background: #fff0;line-height: 1.1;font-family: &quot;Courier New&quot;,Courier,monospace\">     ┌───┐      ░                      ░ ┌───┐ ░ \n",
       "q_0: ┤ H ├──────░───■──────────────────░─┤ H ├─░─\n",
       "     ├───┤      ░   │                  ░ ├───┤ ░ \n",
       "q_1: ┤ H ├──────░───┼──────────────────░─┤ H ├─░─\n",
       "     ├───┤      ░   │                  ░ ├───┤ ░ \n",
       "q_2: ┤ H ├──────░───┼────■─────────────░─┤ H ├─░─\n",
       "     ├───┤      ░   │    │             ░ ├───┤ ░ \n",
       "q_3: ┤ H ├──────░───┼────┼─────────────░─┤ H ├─░─\n",
       "     ├───┤      ░   │    │             ░ ├───┤ ░ \n",
       "q_4: ┤ H ├──────░───┼────┼────■────────░─┤ H ├─░─\n",
       "     ├───┤      ░   │    │    │        ░ ├───┤ ░ \n",
       "q_5: ┤ H ├──────░───┼────┼────┼────■───░─┤ H ├─░─\n",
       "     ├───┤┌───┐ ░ ┌─┴─┐┌─┴─┐┌─┴─┐┌─┴─┐ ░ └───┘ ░ \n",
       "q_6: ┤ X ├┤ H ├─░─┤ X ├┤ X ├┤ X ├┤ X ├─░───────░─\n",
       "     └───┘└───┘ ░ └───┘└───┘└───┘└───┘ ░       ░ \n",
       "c: 6/════════════════════════════════════════════\n",
       "                                                 </pre>"
      ],
      "text/plain": [
       "     ┌───┐      ░                      ░ ┌───┐ ░ \n",
       "q_0: ┤ H ├──────░───■──────────────────░─┤ H ├─░─\n",
       "     ├───┤      ░   │                  ░ ├───┤ ░ \n",
       "q_1: ┤ H ├──────░───┼──────────────────░─┤ H ├─░─\n",
       "     ├───┤      ░   │                  ░ ├───┤ ░ \n",
       "q_2: ┤ H ├──────░───┼────■─────────────░─┤ H ├─░─\n",
       "     ├───┤      ░   │    │             ░ ├───┤ ░ \n",
       "q_3: ┤ H ├──────░───┼────┼─────────────░─┤ H ├─░─\n",
       "     ├───┤      ░   │    │             ░ ├───┤ ░ \n",
       "q_4: ┤ H ├──────░───┼────┼────■────────░─┤ H ├─░─\n",
       "     ├───┤      ░   │    │    │        ░ ├───┤ ░ \n",
       "q_5: ┤ H ├──────░───┼────┼────┼────■───░─┤ H ├─░─\n",
       "     ├───┤┌───┐ ░ ┌─┴─┐┌─┴─┐┌─┴─┐┌─┴─┐ ░ └───┘ ░ \n",
       "q_6: ┤ X ├┤ H ├─░─┤ X ├┤ X ├┤ X ├┤ X ├─░───────░─\n",
       "     └───┘└───┘ ░ └───┘└───┘└───┘└───┘ ░       ░ \n",
       "c: 6/════════════════════════════════════════════\n",
       "                                                 "
      ]
     },
     "execution_count": 32,
     "metadata": {},
     "output_type": "execute_result"
    }
   ],
   "source": [
    "for ii, yesno in enumerate(reversed(secret)):\n",
    "  if yesno == \"1\":\n",
    "    ckt.cx(ii, len(secret))\n",
    "\n",
    "# ckt.cx(5, 6)\n",
    "# ckt.cx(3, 6)\n",
    "# ckt.cx(0, 6)\n",
    "ckt.barrier()\n",
    "ckt.h(range(len(secret)))\n",
    "ckt.barrier()\n",
    "ckt.draw()"
   ]
  },
  {
   "cell_type": "code",
   "execution_count": 33,
   "metadata": {},
   "outputs": [
    {
     "data": {
      "text/html": [
       "<pre style=\"word-wrap: normal;white-space: pre;background: #fff0;line-height: 1.1;font-family: &quot;Courier New&quot;,Courier,monospace\">     ┌───┐      ░                      ░ ┌───┐ ░ ┌─┐               \n",
       "q_0: ┤ H ├──────░───■──────────────────░─┤ H ├─░─┤M├───────────────\n",
       "     ├───┤      ░   │                  ░ ├───┤ ░ └╥┘┌─┐            \n",
       "q_1: ┤ H ├──────░───┼──────────────────░─┤ H ├─░──╫─┤M├────────────\n",
       "     ├───┤      ░   │                  ░ ├───┤ ░  ║ └╥┘┌─┐         \n",
       "q_2: ┤ H ├──────░───┼────■─────────────░─┤ H ├─░──╫──╫─┤M├─────────\n",
       "     ├───┤      ░   │    │             ░ ├───┤ ░  ║  ║ └╥┘┌─┐      \n",
       "q_3: ┤ H ├──────░───┼────┼─────────────░─┤ H ├─░──╫──╫──╫─┤M├──────\n",
       "     ├───┤      ░   │    │             ░ ├───┤ ░  ║  ║  ║ └╥┘┌─┐   \n",
       "q_4: ┤ H ├──────░───┼────┼────■────────░─┤ H ├─░──╫──╫──╫──╫─┤M├───\n",
       "     ├───┤      ░   │    │    │        ░ ├───┤ ░  ║  ║  ║  ║ └╥┘┌─┐\n",
       "q_5: ┤ H ├──────░───┼────┼────┼────■───░─┤ H ├─░──╫──╫──╫──╫──╫─┤M├\n",
       "     ├───┤┌───┐ ░ ┌─┴─┐┌─┴─┐┌─┴─┐┌─┴─┐ ░ └───┘ ░  ║  ║  ║  ║  ║ └╥┘\n",
       "q_6: ┤ X ├┤ H ├─░─┤ X ├┤ X ├┤ X ├┤ X ├─░───────░──╫──╫──╫──╫──╫──╫─\n",
       "     └───┘└───┘ ░ └───┘└───┘└───┘└───┘ ░       ░  ║  ║  ║  ║  ║  ║ \n",
       "c: 6/═════════════════════════════════════════════╩══╩══╩══╩══╩══╩═\n",
       "                                                  0  1  2  3  4  5 </pre>"
      ],
      "text/plain": [
       "     ┌───┐      ░                      ░ ┌───┐ ░ ┌─┐               \n",
       "q_0: ┤ H ├──────░───■──────────────────░─┤ H ├─░─┤M├───────────────\n",
       "     ├───┤      ░   │                  ░ ├───┤ ░ └╥┘┌─┐            \n",
       "q_1: ┤ H ├──────░───┼──────────────────░─┤ H ├─░──╫─┤M├────────────\n",
       "     ├───┤      ░   │                  ░ ├───┤ ░  ║ └╥┘┌─┐         \n",
       "q_2: ┤ H ├──────░───┼────■─────────────░─┤ H ├─░──╫──╫─┤M├─────────\n",
       "     ├───┤      ░   │    │             ░ ├───┤ ░  ║  ║ └╥┘┌─┐      \n",
       "q_3: ┤ H ├──────░───┼────┼─────────────░─┤ H ├─░──╫──╫──╫─┤M├──────\n",
       "     ├───┤      ░   │    │             ░ ├───┤ ░  ║  ║  ║ └╥┘┌─┐   \n",
       "q_4: ┤ H ├──────░───┼────┼────■────────░─┤ H ├─░──╫──╫──╫──╫─┤M├───\n",
       "     ├───┤      ░   │    │    │        ░ ├───┤ ░  ║  ║  ║  ║ └╥┘┌─┐\n",
       "q_5: ┤ H ├──────░───┼────┼────┼────■───░─┤ H ├─░──╫──╫──╫──╫──╫─┤M├\n",
       "     ├───┤┌───┐ ░ ┌─┴─┐┌─┴─┐┌─┴─┐┌─┴─┐ ░ └───┘ ░  ║  ║  ║  ║  ║ └╥┘\n",
       "q_6: ┤ X ├┤ H ├─░─┤ X ├┤ X ├┤ X ├┤ X ├─░───────░──╫──╫──╫──╫──╫──╫─\n",
       "     └───┘└───┘ ░ └───┘└───┘└───┘└───┘ ░       ░  ║  ║  ║  ║  ║  ║ \n",
       "c: 6/═════════════════════════════════════════════╩══╩══╩══╩══╩══╩═\n",
       "                                                  0  1  2  3  4  5 "
      ]
     },
     "execution_count": 33,
     "metadata": {},
     "output_type": "execute_result"
    }
   ],
   "source": [
    "ckt.measure(range(len(secret)), range(len(secret)))\n",
    "ckt.draw()"
   ]
  },
  {
   "cell_type": "code",
   "execution_count": 34,
   "metadata": {},
   "outputs": [
    {
     "name": "stdout",
     "output_type": "stream",
     "text": [
      "{'110101': 1}\n"
     ]
    }
   ],
   "source": [
    "sim = Aer.get_backend(\"qasm_simulator\")\n",
    "result = execute(ckt, backend = sim, shots = 1).result()\n",
    "counts = result.get_counts()\n",
    "print(counts)"
   ]
  }
 ],
 "metadata": {
  "kernelspec": {
   "display_name": "Python 3.9.13 ('qiskit-stable')",
   "language": "python",
   "name": "python3"
  },
  "language_info": {
   "codemirror_mode": {
    "name": "ipython",
    "version": 3
   },
   "file_extension": ".py",
   "mimetype": "text/x-python",
   "name": "python",
   "nbconvert_exporter": "python",
   "pygments_lexer": "ipython3",
   "version": "3.10.9"
  },
  "orig_nbformat": 4,
  "vscode": {
   "interpreter": {
    "hash": "5e57c598d8b796f50b8e58b105692cee1ad0035480a8459f4e32847a9b3004de"
   }
  }
 },
 "nbformat": 4,
 "nbformat_minor": 2
}
