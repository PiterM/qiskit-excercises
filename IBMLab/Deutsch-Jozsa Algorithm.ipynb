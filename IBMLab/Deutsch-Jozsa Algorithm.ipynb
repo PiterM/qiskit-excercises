{
 "cells": [
  {
   "cell_type": "code",
   "execution_count": 1,
   "id": "5b878963-27ed-4b2d-8736-638ac51e15c0",
   "metadata": {},
   "outputs": [],
   "source": [
    "from qiskit import *\n",
    "from qiskit.visualization import plot_histogram"
   ]
  },
  {
   "cell_type": "code",
   "execution_count": 2,
   "id": "040b0cc0-fa2f-43cc-a6c1-c994c64119a5",
   "metadata": {},
   "outputs": [
    {
     "data": {
      "text/html": [
       "<pre style=\"word-wrap: normal;white-space: pre;background: #fff0;line-height: 1.1;font-family: &quot;Courier New&quot;,Courier,monospace\">           ░ ┌───┐      ░ \n",
       "q_0: ──────░─┤ H ├──────░─\n",
       "     ┌───┐ ░ ├───┤      ░ \n",
       "q_1: ┤ X ├─░─┤ H ├──────░─\n",
       "     └───┘ ░ ├───┤      ░ \n",
       "q_2: ──────░─┤ H ├──────░─\n",
       "           ░ ├───┤      ░ \n",
       "q_3: ──────░─┤ H ├──────░─\n",
       "     ┌───┐ ░ ├───┤      ░ \n",
       "q_4: ┤ X ├─░─┤ H ├──────░─\n",
       "     └───┘ ░ ├───┤      ░ \n",
       "q_5: ──────░─┤ H ├──────░─\n",
       "           ░ ├───┤┌───┐ ░ \n",
       "q_6: ──────░─┤ X ├┤ H ├─░─\n",
       "           ░ └───┘└───┘ ░ \n",
       "c: 6/═════════════════════\n",
       "                          </pre>"
      ],
      "text/plain": [
       "           ░ ┌───┐      ░ \n",
       "q_0: ──────░─┤ H ├──────░─\n",
       "     ┌───┐ ░ ├───┤      ░ \n",
       "q_1: ┤ X ├─░─┤ H ├──────░─\n",
       "     └───┘ ░ ├───┤      ░ \n",
       "q_2: ──────░─┤ H ├──────░─\n",
       "           ░ ├───┤      ░ \n",
       "q_3: ──────░─┤ H ├──────░─\n",
       "     ┌───┐ ░ ├───┤      ░ \n",
       "q_4: ┤ X ├─░─┤ H ├──────░─\n",
       "     └───┘ ░ ├───┤      ░ \n",
       "q_5: ──────░─┤ H ├──────░─\n",
       "           ░ ├───┤┌───┐ ░ \n",
       "q_6: ──────░─┤ X ├┤ H ├─░─\n",
       "           ░ └───┘└───┘ ░ \n",
       "c: 6/═════════════════════\n",
       "                          "
      ]
     },
     "execution_count": 2,
     "metadata": {},
     "output_type": "execute_result"
    }
   ],
   "source": [
    "xCount = 7\n",
    "crc = QuantumCircuit(xCount, xCount-1)\n",
    "\n",
    "#random modifiers of the input\n",
    "import numpy as np\n",
    "half = int(xCount / 2)\n",
    "ones = [np.random.randint(half), np.random.randint(half) + half]\n",
    "for i in ones:\n",
    "    crc.x(i)\n",
    "crc.barrier()\n",
    "###    \n",
    "\n",
    "for i in range(xCount-1):\n",
    "    crc.h(i)\n",
    "    \n",
    "crc.x(xCount-1)\n",
    "crc.h(xCount-1)\n",
    "crc.barrier()\n",
    "crc.draw()"
   ]
  },
  {
   "cell_type": "code",
   "execution_count": 3,
   "id": "7c28eb47-ef3d-4d9a-8852-2cd1b292ec07",
   "metadata": {},
   "outputs": [
    {
     "data": {
      "text/html": [
       "<pre style=\"word-wrap: normal;white-space: pre;background: #fff0;line-height: 1.1;font-family: &quot;Courier New&quot;,Courier,monospace\">           ░ ┌───┐      ░                                ░ \n",
       "q_0: ──────░─┤ H ├──────░───■────────────────────────────░─\n",
       "     ┌───┐ ░ ├───┤      ░   │                            ░ \n",
       "q_1: ┤ X ├─░─┤ H ├──────░───┼────■───────────────────────░─\n",
       "     └───┘ ░ ├───┤      ░   │    │                       ░ \n",
       "q_2: ──────░─┤ H ├──────░───┼────┼────■──────────────────░─\n",
       "           ░ ├───┤      ░   │    │    │                  ░ \n",
       "q_3: ──────░─┤ H ├──────░───┼────┼────┼────■─────────────░─\n",
       "     ┌───┐ ░ ├───┤      ░   │    │    │    │             ░ \n",
       "q_4: ┤ X ├─░─┤ H ├──────░───┼────┼────┼────┼────■────────░─\n",
       "     └───┘ ░ ├───┤      ░   │    │    │    │    │        ░ \n",
       "q_5: ──────░─┤ H ├──────░───┼────┼────┼────┼────┼────■───░─\n",
       "           ░ ├───┤┌───┐ ░ ┌─┴─┐┌─┴─┐┌─┴─┐┌─┴─┐┌─┴─┐┌─┴─┐ ░ \n",
       "q_6: ──────░─┤ X ├┤ H ├─░─┤ X ├┤ X ├┤ X ├┤ X ├┤ X ├┤ X ├─░─\n",
       "           ░ └───┘└───┘ ░ └───┘└───┘└───┘└───┘└───┘└───┘ ░ \n",
       "c: 6/══════════════════════════════════════════════════════\n",
       "                                                           </pre>"
      ],
      "text/plain": [
       "           ░ ┌───┐      ░                                ░ \n",
       "q_0: ──────░─┤ H ├──────░───■────────────────────────────░─\n",
       "     ┌───┐ ░ ├───┤      ░   │                            ░ \n",
       "q_1: ┤ X ├─░─┤ H ├──────░───┼────■───────────────────────░─\n",
       "     └───┘ ░ ├───┤      ░   │    │                       ░ \n",
       "q_2: ──────░─┤ H ├──────░───┼────┼────■──────────────────░─\n",
       "           ░ ├───┤      ░   │    │    │                  ░ \n",
       "q_3: ──────░─┤ H ├──────░───┼────┼────┼────■─────────────░─\n",
       "     ┌───┐ ░ ├───┤      ░   │    │    │    │             ░ \n",
       "q_4: ┤ X ├─░─┤ H ├──────░───┼────┼────┼────┼────■────────░─\n",
       "     └───┘ ░ ├───┤      ░   │    │    │    │    │        ░ \n",
       "q_5: ──────░─┤ H ├──────░───┼────┼────┼────┼────┼────■───░─\n",
       "           ░ ├───┤┌───┐ ░ ┌─┴─┐┌─┴─┐┌─┴─┐┌─┴─┐┌─┴─┐┌─┴─┐ ░ \n",
       "q_6: ──────░─┤ X ├┤ H ├─░─┤ X ├┤ X ├┤ X ├┤ X ├┤ X ├┤ X ├─░─\n",
       "           ░ └───┘└───┘ ░ └───┘└───┘└───┘└───┘└───┘└───┘ ░ \n",
       "c: 6/══════════════════════════════════════════════════════\n",
       "                                                           "
      ]
     },
     "execution_count": 3,
     "metadata": {},
     "output_type": "execute_result"
    }
   ],
   "source": [
    "#some balanced function construct with cnots\n",
    "for i in range(xCount-1):\n",
    "    crc.cx(i, xCount-1)\n",
    "    # crc.i(i) #or a constant function to have 0s at the measurement\n",
    "crc.barrier()    \n",
    "###########\n",
    "crc.draw()"
   ]
  },
  {
   "cell_type": "code",
   "execution_count": 4,
   "id": "d2419843-f68e-4f75-9450-26c49e948bc0",
   "metadata": {},
   "outputs": [
    {
     "data": {
      "text/html": [
       "<pre style=\"word-wrap: normal;white-space: pre;background: #fff0;line-height: 1.1;font-family: &quot;Courier New&quot;,Courier,monospace\">           ░ ┌───┐      ░                                ░ ┌───┐ ░       ░ \n",
       "q_0: ──────░─┤ H ├──────░───■────────────────────────────░─┤ H ├─░───────░─\n",
       "     ┌───┐ ░ ├───┤      ░   │                            ░ ├───┤ ░ ┌───┐ ░ \n",
       "q_1: ┤ X ├─░─┤ H ├──────░───┼────■───────────────────────░─┤ H ├─░─┤ X ├─░─\n",
       "     └───┘ ░ ├───┤      ░   │    │                       ░ ├───┤ ░ └───┘ ░ \n",
       "q_2: ──────░─┤ H ├──────░───┼────┼────■──────────────────░─┤ H ├─░───────░─\n",
       "           ░ ├───┤      ░   │    │    │                  ░ ├───┤ ░       ░ \n",
       "q_3: ──────░─┤ H ├──────░───┼────┼────┼────■─────────────░─┤ H ├─░───────░─\n",
       "     ┌───┐ ░ ├───┤      ░   │    │    │    │             ░ ├───┤ ░ ┌───┐ ░ \n",
       "q_4: ┤ X ├─░─┤ H ├──────░───┼────┼────┼────┼────■────────░─┤ H ├─░─┤ X ├─░─\n",
       "     └───┘ ░ ├───┤      ░   │    │    │    │    │        ░ ├───┤ ░ └───┘ ░ \n",
       "q_5: ──────░─┤ H ├──────░───┼────┼────┼────┼────┼────■───░─┤ H ├─░───────░─\n",
       "           ░ ├───┤┌───┐ ░ ┌─┴─┐┌─┴─┐┌─┴─┐┌─┴─┐┌─┴─┐┌─┴─┐ ░ └───┘ ░       ░ \n",
       "q_6: ──────░─┤ X ├┤ H ├─░─┤ X ├┤ X ├┤ X ├┤ X ├┤ X ├┤ X ├─░───────░───────░─\n",
       "           ░ └───┘└───┘ ░ └───┘└───┘└───┘└───┘└───┘└───┘ ░       ░       ░ \n",
       "c: 6/══════════════════════════════════════════════════════════════════════\n",
       "                                                                           </pre>"
      ],
      "text/plain": [
       "           ░ ┌───┐      ░                                ░ ┌───┐ ░       ░ \n",
       "q_0: ──────░─┤ H ├──────░───■────────────────────────────░─┤ H ├─░───────░─\n",
       "     ┌───┐ ░ ├───┤      ░   │                            ░ ├───┤ ░ ┌───┐ ░ \n",
       "q_1: ┤ X ├─░─┤ H ├──────░───┼────■───────────────────────░─┤ H ├─░─┤ X ├─░─\n",
       "     └───┘ ░ ├───┤      ░   │    │                       ░ ├───┤ ░ └───┘ ░ \n",
       "q_2: ──────░─┤ H ├──────░───┼────┼────■──────────────────░─┤ H ├─░───────░─\n",
       "           ░ ├───┤      ░   │    │    │                  ░ ├───┤ ░       ░ \n",
       "q_3: ──────░─┤ H ├──────░───┼────┼────┼────■─────────────░─┤ H ├─░───────░─\n",
       "     ┌───┐ ░ ├───┤      ░   │    │    │    │             ░ ├───┤ ░ ┌───┐ ░ \n",
       "q_4: ┤ X ├─░─┤ H ├──────░───┼────┼────┼────┼────■────────░─┤ H ├─░─┤ X ├─░─\n",
       "     └───┘ ░ ├───┤      ░   │    │    │    │    │        ░ ├───┤ ░ └───┘ ░ \n",
       "q_5: ──────░─┤ H ├──────░───┼────┼────┼────┼────┼────■───░─┤ H ├─░───────░─\n",
       "           ░ ├───┤┌───┐ ░ ┌─┴─┐┌─┴─┐┌─┴─┐┌─┴─┐┌─┴─┐┌─┴─┐ ░ └───┘ ░       ░ \n",
       "q_6: ──────░─┤ X ├┤ H ├─░─┤ X ├┤ X ├┤ X ├┤ X ├┤ X ├┤ X ├─░───────░───────░─\n",
       "           ░ └───┘└───┘ ░ └───┘└───┘└───┘└───┘└───┘└───┘ ░       ░       ░ \n",
       "c: 6/══════════════════════════════════════════════════════════════════════\n",
       "                                                                           "
      ]
     },
     "execution_count": 4,
     "metadata": {},
     "output_type": "execute_result"
    }
   ],
   "source": [
    "for i in range(xCount-1):\n",
    "    crc.h(i)\n",
    "crc.barrier()\n",
    "\n",
    "for i in ones:\n",
    "    crc.x(i)\n",
    "crc.barrier()\n",
    "crc.draw()"
   ]
  },
  {
   "cell_type": "code",
   "execution_count": 5,
   "id": "6f5a3dec-c81c-4b33-9a13-73eff482531c",
   "metadata": {},
   "outputs": [
    {
     "data": {
      "text/html": [
       "<pre style=\"word-wrap: normal;white-space: pre;background: #fff0;line-height: 1.1;font-family: &quot;Courier New&quot;,Courier,monospace\">           ░ ┌───┐      ░                                ░ ┌───┐ ░       ░ ┌─┐»\n",
       "q_0: ──────░─┤ H ├──────░───■────────────────────────────░─┤ H ├─░───────░─┤M├»\n",
       "     ┌───┐ ░ ├───┤      ░   │                            ░ ├───┤ ░ ┌───┐ ░ └╥┘»\n",
       "q_1: ┤ X ├─░─┤ H ├──────░───┼────■───────────────────────░─┤ H ├─░─┤ X ├─░──╫─»\n",
       "     └───┘ ░ ├───┤      ░   │    │                       ░ ├───┤ ░ └───┘ ░  ║ »\n",
       "q_2: ──────░─┤ H ├──────░───┼────┼────■──────────────────░─┤ H ├─░───────░──╫─»\n",
       "           ░ ├───┤      ░   │    │    │                  ░ ├───┤ ░       ░  ║ »\n",
       "q_3: ──────░─┤ H ├──────░───┼────┼────┼────■─────────────░─┤ H ├─░───────░──╫─»\n",
       "     ┌───┐ ░ ├───┤      ░   │    │    │    │             ░ ├───┤ ░ ┌───┐ ░  ║ »\n",
       "q_4: ┤ X ├─░─┤ H ├──────░───┼────┼────┼────┼────■────────░─┤ H ├─░─┤ X ├─░──╫─»\n",
       "     └───┘ ░ ├───┤      ░   │    │    │    │    │        ░ ├───┤ ░ └───┘ ░  ║ »\n",
       "q_5: ──────░─┤ H ├──────░───┼────┼────┼────┼────┼────■───░─┤ H ├─░───────░──╫─»\n",
       "           ░ ├───┤┌───┐ ░ ┌─┴─┐┌─┴─┐┌─┴─┐┌─┴─┐┌─┴─┐┌─┴─┐ ░ └───┘ ░       ░  ║ »\n",
       "q_6: ──────░─┤ X ├┤ H ├─░─┤ X ├┤ X ├┤ X ├┤ X ├┤ X ├┤ X ├─░───────░───────░──╫─»\n",
       "           ░ └───┘└───┘ ░ └───┘└───┘└───┘└───┘└───┘└───┘ ░       ░       ░  ║ »\n",
       "c: 6/═══════════════════════════════════════════════════════════════════════╩═»\n",
       "                                                                            0 »\n",
       "«                    \n",
       "«q_0: ───────────────\n",
       "«     ┌─┐            \n",
       "«q_1: ┤M├────────────\n",
       "«     └╥┘┌─┐         \n",
       "«q_2: ─╫─┤M├─────────\n",
       "«      ║ └╥┘┌─┐      \n",
       "«q_3: ─╫──╫─┤M├──────\n",
       "«      ║  ║ └╥┘┌─┐   \n",
       "«q_4: ─╫──╫──╫─┤M├───\n",
       "«      ║  ║  ║ └╥┘┌─┐\n",
       "«q_5: ─╫──╫──╫──╫─┤M├\n",
       "«      ║  ║  ║  ║ └╥┘\n",
       "«q_6: ─╫──╫──╫──╫──╫─\n",
       "«      ║  ║  ║  ║  ║ \n",
       "«c: 6/═╩══╩══╩══╩══╩═\n",
       "«      1  2  3  4  5 </pre>"
      ],
      "text/plain": [
       "           ░ ┌───┐      ░                                ░ ┌───┐ ░       ░ ┌─┐»\n",
       "q_0: ──────░─┤ H ├──────░───■────────────────────────────░─┤ H ├─░───────░─┤M├»\n",
       "     ┌───┐ ░ ├───┤      ░   │                            ░ ├───┤ ░ ┌───┐ ░ └╥┘»\n",
       "q_1: ┤ X ├─░─┤ H ├──────░───┼────■───────────────────────░─┤ H ├─░─┤ X ├─░──╫─»\n",
       "     └───┘ ░ ├───┤      ░   │    │                       ░ ├───┤ ░ └───┘ ░  ║ »\n",
       "q_2: ──────░─┤ H ├──────░───┼────┼────■──────────────────░─┤ H ├─░───────░──╫─»\n",
       "           ░ ├───┤      ░   │    │    │                  ░ ├───┤ ░       ░  ║ »\n",
       "q_3: ──────░─┤ H ├──────░───┼────┼────┼────■─────────────░─┤ H ├─░───────░──╫─»\n",
       "     ┌───┐ ░ ├───┤      ░   │    │    │    │             ░ ├───┤ ░ ┌───┐ ░  ║ »\n",
       "q_4: ┤ X ├─░─┤ H ├──────░───┼────┼────┼────┼────■────────░─┤ H ├─░─┤ X ├─░──╫─»\n",
       "     └───┘ ░ ├───┤      ░   │    │    │    │    │        ░ ├───┤ ░ └───┘ ░  ║ »\n",
       "q_5: ──────░─┤ H ├──────░───┼────┼────┼────┼────┼────■───░─┤ H ├─░───────░──╫─»\n",
       "           ░ ├───┤┌───┐ ░ ┌─┴─┐┌─┴─┐┌─┴─┐┌─┴─┐┌─┴─┐┌─┴─┐ ░ └───┘ ░       ░  ║ »\n",
       "q_6: ──────░─┤ X ├┤ H ├─░─┤ X ├┤ X ├┤ X ├┤ X ├┤ X ├┤ X ├─░───────░───────░──╫─»\n",
       "           ░ └───┘└───┘ ░ └───┘└───┘└───┘└───┘└───┘└───┘ ░       ░       ░  ║ »\n",
       "c: 6/═══════════════════════════════════════════════════════════════════════╩═»\n",
       "                                                                            0 »\n",
       "«                    \n",
       "«q_0: ───────────────\n",
       "«     ┌─┐            \n",
       "«q_1: ┤M├────────────\n",
       "«     └╥┘┌─┐         \n",
       "«q_2: ─╫─┤M├─────────\n",
       "«      ║ └╥┘┌─┐      \n",
       "«q_3: ─╫──╫─┤M├──────\n",
       "«      ║  ║ └╥┘┌─┐   \n",
       "«q_4: ─╫──╫──╫─┤M├───\n",
       "«      ║  ║  ║ └╥┘┌─┐\n",
       "«q_5: ─╫──╫──╫──╫─┤M├\n",
       "«      ║  ║  ║  ║ └╥┘\n",
       "«q_6: ─╫──╫──╫──╫──╫─\n",
       "«      ║  ║  ║  ║  ║ \n",
       "«c: 6/═╩══╩══╩══╩══╩═\n",
       "«      1  2  3  4  5 "
      ]
     },
     "execution_count": 5,
     "metadata": {},
     "output_type": "execute_result"
    }
   ],
   "source": [
    "crc.measure([i for i in range(xCount-1)], [i for i in range(xCount-1)])\n",
    "crc.draw()"
   ]
  },
  {
   "cell_type": "code",
   "execution_count": 6,
   "id": "5ef13e3d-2f5a-4896-883c-944e58d1d7a2",
   "metadata": {},
   "outputs": [
    {
     "data": {
      "image/png": "[encoded data removed]",
      "text/plain": [
       "<Figure size 700x500 with 1 Axes>"
      ]
     },
     "execution_count": 6,
     "metadata": {},
     "output_type": "execute_result"
    }
   ],
   "source": [
    "backend = Aer.get_backend(\"qasm_simulator\")\n",
    "result = execute(crc, backend=backend, shots=1024).result()\n",
    "counts = result.get_counts(crc)\n",
    "plot_histogram([counts])"
   ]
  },
  {
   "cell_type": "code",
   "execution_count": 7,
   "id": "74174d74-835f-462a-baf7-685f0217c29a",
   "metadata": {},
   "outputs": [],
   "source": [
    "# IBMQ.load_account()\n",
    "# Aer.backends()\n",
    "# provider = IBMQ.get_provider(\"ibm-q\")\n",
    "# provider.backends()\n",
    "# for backend in provider.backends():\n",
    "#     try:\n",
    "#         qubitCount = len(backend.properties().qubits)\n",
    "#     except:\n",
    "#         qubitCount = \"simulated\"\n",
    "#     print(f\"{backend.name()}: {backend.status().pending_jobs} jobs, {qubitCount} qubits\")"
   ]
  },
  {
   "cell_type": "code",
   "execution_count": 8,
   "id": "4df7c7c8-0707-499d-bd55-663fc8fb0440",
   "metadata": {},
   "outputs": [],
   "source": [
    "# provider = IBMQ.get_provider(\"ibm-q\")\n",
    "# quantumComputer = provider.get_backend(\"simulator_statevector\")\n",
    "# job = execute(crc, backend=quantumComputer, shots=1024)\n",
    "# from qiskit.tools.monitor import job_monitor\n",
    "# job_monitor(job)\n",
    "# quantumResult = job.result()\n",
    "# plot_histogram([quantumResult.get_counts(crc)])"
   ]
  },
  {
   "cell_type": "code",
   "execution_count": null,
   "id": "67c51bcf-88fa-41a2-888c-c7a5acbb5610",
   "metadata": {},
   "outputs": [],
   "source": []
  }
 ],
 "metadata": {
  "kernelspec": {
   "display_name": "Python 3.9.13 ('qiskit-stable')",
   "language": "python",
   "name": "python3"
  },
  "language_info": {
   "codemirror_mode": {
    "name": "ipython",
    "version": 3
   },
   "file_extension": ".py",
   "mimetype": "text/x-python",
   "name": "python",
   "nbconvert_exporter": "python",
   "pygments_lexer": "ipython3",
   "version": "3.9.13"
  },
  "vscode": {
   "interpreter": {
    "hash": "5e57c598d8b796f50b8e58b105692cee1ad0035480a8459f4e32847a9b3004de"
   }
  },
  "widgets": {
   "application/vnd.jupyter.widget-state+json": {
    "state": {},
    "version_major": 2,
    "version_minor": 0
   }
  }
 },
 "nbformat": 4,
 "nbformat_minor": 5
}
