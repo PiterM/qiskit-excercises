{
 "cells": [
  {
   "attachments": {},
   "cell_type": "markdown",
   "metadata": {},
   "source": [
    "## Custom SWAP gate"
   ]
  },
  {
   "attachments": {},
   "cell_type": "markdown",
   "metadata": {},
   "source": [
    "### SWAP gate for computational basis "
   ]
  },
  {
   "cell_type": "code",
   "execution_count": 1,
   "metadata": {},
   "outputs": [
    {
     "data": {
      "text/html": [
       "<pre style=\"word-wrap: normal;white-space: pre;background: #fff0;line-height: 1.1;font-family: &quot;Courier New&quot;,Courier,monospace\">     ┌───┐     ┌───┐\n",
       "q_0: ┤ X ├──■──┤ X ├\n",
       "     └─┬─┘┌─┴─┐└─┬─┘\n",
       "q_1: ──■──┤ X ├──■──\n",
       "          └───┘     </pre>"
      ],
      "text/plain": [
       "     ┌───┐     ┌───┐\n",
       "q_0: ┤ X ├──■──┤ X ├\n",
       "     └─┬─┘┌─┴─┐└─┬─┘\n",
       "q_1: ──■──┤ X ├──■──\n",
       "          └───┘     "
      ]
     },
     "execution_count": 1,
     "metadata": {},
     "output_type": "execute_result"
    }
   ],
   "source": [
    "from ipynb.fs.full.quantum_helpers import draw_unitary, draw_statevector_ket, draw_statevector\n",
    "from qiskit import QuantumCircuit\n",
    "c = 0\n",
    "t = 1\n",
    "ckt = QuantumCircuit(2)\n",
    "# ckt.x([c, t])\n",
    "# swap gate\n",
    "ckt.cx(t, c)\n",
    "ckt.cx(c, t)\n",
    "ckt.cx(t, c)\n",
    "ckt.draw()"
   ]
  },
  {
   "cell_type": "code",
   "execution_count": 2,
   "metadata": {},
   "outputs": [
    {
     "data": {
      "text/latex": [
       "$$\n",
       "U=\n",
       "\\begin{bmatrix}\n",
       "1 & 0 & 0 & 0  \\\\\n",
       " 0 & 0 & 1 & 0  \\\\\n",
       " 0 & 1 & 0 & 0  \\\\\n",
       " 0 & 0 & 0 & 1  \\\\\n",
       " \\end{bmatrix}\n",
       "$$"
      ],
      "text/plain": [
       "<IPython.core.display.Latex object>"
      ]
     },
     "metadata": {},
     "output_type": "display_data"
    }
   ],
   "source": [
    "draw_unitary(ckt)"
   ]
  },
  {
   "attachments": {},
   "cell_type": "markdown",
   "metadata": {},
   "source": [
    "### SWAP Gate for |+> and |-> basis"
   ]
  },
  {
   "cell_type": "code",
   "execution_count": 3,
   "metadata": {},
   "outputs": [
    {
     "data": {
      "text/html": [
       "<pre style=\"word-wrap: normal;white-space: pre;background: #fff0;line-height: 1.1;font-family: &quot;Courier New&quot;,Courier,monospace\">     ┌───┐      ░ \n",
       "q_0: ┤ H ├──────░─\n",
       "     ├───┤┌───┐ ░ \n",
       "q_1: ┤ X ├┤ H ├─░─\n",
       "     └───┘└───┘ ░ </pre>"
      ],
      "text/plain": [
       "     ┌───┐      ░ \n",
       "q_0: ┤ H ├──────░─\n",
       "     ├───┤┌───┐ ░ \n",
       "q_1: ┤ X ├┤ H ├─░─\n",
       "     └───┘└───┘ ░ "
      ]
     },
     "execution_count": 3,
     "metadata": {},
     "output_type": "execute_result"
    }
   ],
   "source": [
    "init = QuantumCircuit(2)\n",
    "\n",
    "# setting |+> and |->\n",
    "init.h(0)\n",
    "init.x(1)\n",
    "init.h(1)\n",
    "init.barrier()\n",
    "init.draw()"
   ]
  },
  {
   "cell_type": "code",
   "execution_count": 4,
   "metadata": {},
   "outputs": [
    {
     "data": {
      "text/latex": [
       "$$\\frac{1}{2} |00\\rangle+\\frac{1}{2} |01\\rangle- \\frac{1}{2} |10\\rangle- \\frac{1}{2} |11\\rangle$$"
      ],
      "text/plain": [
       "<IPython.core.display.Latex object>"
      ]
     },
     "execution_count": 4,
     "metadata": {},
     "output_type": "execute_result"
    }
   ],
   "source": [
    "draw_statevector(init)"
   ]
  },
  {
   "cell_type": "code",
   "execution_count": 5,
   "metadata": {},
   "outputs": [
    {
     "data": {
      "text/html": [
       "<pre style=\"word-wrap: normal;white-space: pre;background: #fff0;line-height: 1.1;font-family: &quot;Courier New&quot;,Courier,monospace\">     ┌───┐┌───┐ ░ \n",
       "q_0: ┤ X ├┤ H ├─░─\n",
       "     ├───┤└───┘ ░ \n",
       "q_1: ┤ H ├──────░─\n",
       "     └───┘      ░ </pre>"
      ],
      "text/plain": [
       "     ┌───┐┌───┐ ░ \n",
       "q_0: ┤ X ├┤ H ├─░─\n",
       "     ├───┤└───┘ ░ \n",
       "q_1: ┤ H ├──────░─\n",
       "     └───┘      ░ "
      ]
     },
     "execution_count": 5,
     "metadata": {},
     "output_type": "execute_result"
    }
   ],
   "source": [
    "init_swapped = QuantumCircuit(2)\n",
    "init_swapped.h(1)\n",
    "init_swapped.x(0)\n",
    "init_swapped.h(0)\n",
    "init_swapped.barrier()\n",
    "init_swapped.draw()"
   ]
  },
  {
   "cell_type": "code",
   "execution_count": 6,
   "metadata": {},
   "outputs": [
    {
     "data": {
      "text/latex": [
       "$$\\frac{1}{2} |00\\rangle- \\frac{1}{2} |01\\rangle+\\frac{1}{2} |10\\rangle- \\frac{1}{2} |11\\rangle$$"
      ],
      "text/plain": [
       "<IPython.core.display.Latex object>"
      ]
     },
     "execution_count": 6,
     "metadata": {},
     "output_type": "execute_result"
    }
   ],
   "source": [
    "draw_statevector(init_swapped)"
   ]
  },
  {
   "cell_type": "code",
   "execution_count": 7,
   "metadata": {},
   "outputs": [
    {
     "data": {
      "text/html": [
       "<pre style=\"word-wrap: normal;white-space: pre;background: #fff0;line-height: 1.1;font-family: &quot;Courier New&quot;,Courier,monospace\">     ┌───┐┌───┐     ┌───┐┌───┐\n",
       "q_0: ┤ H ├┤ X ├──■──┤ X ├┤ H ├\n",
       "     ├───┤└─┬─┘┌─┴─┐└─┬─┘├───┤\n",
       "q_1: ┤ H ├──■──┤ X ├──■──┤ H ├\n",
       "     └───┘     └───┘     └───┘</pre>"
      ],
      "text/plain": [
       "     ┌───┐┌───┐     ┌───┐┌───┐\n",
       "q_0: ┤ H ├┤ X ├──■──┤ X ├┤ H ├\n",
       "     ├───┤└─┬─┘┌─┴─┐└─┬─┘├───┤\n",
       "q_1: ┤ H ├──■──┤ X ├──■──┤ H ├\n",
       "     └───┘     └───┘     └───┘"
      ]
     },
     "execution_count": 7,
     "metadata": {},
     "output_type": "execute_result"
    }
   ],
   "source": [
    "ckt = QuantumCircuit(2)\n",
    "ckt.h([0, 1])\n",
    "ckt.cx(1, 0)\n",
    "ckt.cx(0, 1)\n",
    "ckt.cx(1, 0)\n",
    "ckt.h([0, 1])\n",
    "ckt.draw()"
   ]
  },
  {
   "cell_type": "code",
   "execution_count": 8,
   "metadata": {},
   "outputs": [
    {
     "data": {
      "text/latex": [
       "$$\n",
       "U=\n",
       "\\begin{bmatrix}\n",
       "1 & 0 & 0 & 0  \\\\\n",
       " 0 & 0 & 1 & 0  \\\\\n",
       " 0 & 1 & 0 & 0  \\\\\n",
       " 0 & 0 & 0 & 1  \\\\\n",
       " \\end{bmatrix}\n",
       "$$"
      ],
      "text/plain": [
       "<IPython.core.display.Latex object>"
      ]
     },
     "metadata": {},
     "output_type": "display_data"
    }
   ],
   "source": [
    "draw_unitary(ckt)"
   ]
  },
  {
   "cell_type": "code",
   "execution_count": 9,
   "metadata": {},
   "outputs": [
    {
     "data": {
      "text/html": [
       "<pre style=\"word-wrap: normal;white-space: pre;background: #fff0;line-height: 1.1;font-family: &quot;Courier New&quot;,Courier,monospace\">     ┌───┐      ░ ┌───┐┌───┐     ┌───┐┌───┐\n",
       "q_0: ┤ H ├──────░─┤ H ├┤ X ├──■──┤ X ├┤ H ├\n",
       "     ├───┤┌───┐ ░ ├───┤└─┬─┘┌─┴─┐└─┬─┘├───┤\n",
       "q_1: ┤ X ├┤ H ├─░─┤ H ├──■──┤ X ├──■──┤ H ├\n",
       "     └───┘└───┘ ░ └───┘     └───┘     └───┘</pre>"
      ],
      "text/plain": [
       "     ┌───┐      ░ ┌───┐┌───┐     ┌───┐┌───┐\n",
       "q_0: ┤ H ├──────░─┤ H ├┤ X ├──■──┤ X ├┤ H ├\n",
       "     ├───┤┌───┐ ░ ├───┤└─┬─┘┌─┴─┐└─┬─┘├───┤\n",
       "q_1: ┤ X ├┤ H ├─░─┤ H ├──■──┤ X ├──■──┤ H ├\n",
       "     └───┘└───┘ ░ └───┘     └───┘     └───┘"
      ]
     },
     "execution_count": 9,
     "metadata": {},
     "output_type": "execute_result"
    }
   ],
   "source": [
    "ckt = init.compose(ckt)\n",
    "ckt.draw()"
   ]
  },
  {
   "cell_type": "code",
   "execution_count": 10,
   "metadata": {},
   "outputs": [
    {
     "data": {
      "text/latex": [
       "$$\\frac{1}{2} |00\\rangle- \\frac{1}{2} |01\\rangle+\\frac{1}{2} |10\\rangle- \\frac{1}{2} |11\\rangle$$"
      ],
      "text/plain": [
       "<IPython.core.display.Latex object>"
      ]
     },
     "execution_count": 10,
     "metadata": {},
     "output_type": "execute_result"
    }
   ],
   "source": [
    "draw_statevector(ckt)"
   ]
  },
  {
   "cell_type": "code",
   "execution_count": 11,
   "metadata": {},
   "outputs": [
    {
     "data": {
      "text/latex": [
       "$$\\frac{1}{2} |00\\rangle- \\frac{1}{2} |01\\rangle+\\frac{1}{2} |10\\rangle- \\frac{1}{2} |11\\rangle$$"
      ],
      "text/plain": [
       "<IPython.core.display.Latex object>"
      ]
     },
     "execution_count": 11,
     "metadata": {},
     "output_type": "execute_result"
    }
   ],
   "source": [
    "draw_statevector(init_swapped)"
   ]
  },
  {
   "cell_type": "code",
   "execution_count": 12,
   "metadata": {},
   "outputs": [
    {
     "name": "stdout",
     "output_type": "stream",
     "text": [
      "You have swapped the qubits properly!\n"
     ]
    }
   ],
   "source": [
    "from qiskit.quantum_info import Statevector\n",
    "if (Statevector.from_instruction(ckt).equiv(Statevector.from_instruction(init_swapped))):\n",
    "  print(\"You have swapped the qubits properly!\")"
   ]
  },
  {
   "cell_type": "code",
   "execution_count": null,
   "metadata": {},
   "outputs": [],
   "source": []
  }
 ],
 "metadata": {
  "kernelspec": {
   "display_name": "qiskit-stable",
   "language": "python",
   "name": "python3"
  },
  "language_info": {
   "codemirror_mode": {
    "name": "ipython",
    "version": 3
   },
   "file_extension": ".py",
   "mimetype": "text/x-python",
   "name": "python",
   "nbconvert_exporter": "python",
   "pygments_lexer": "ipython3",
   "version": "3.10.9"
  },
  "orig_nbformat": 4,
  "vscode": {
   "interpreter": {
    "hash": "5e57c598d8b796f50b8e58b105692cee1ad0035480a8459f4e32847a9b3004de"
   }
  }
 },
 "nbformat": 4,
 "nbformat_minor": 2
}
