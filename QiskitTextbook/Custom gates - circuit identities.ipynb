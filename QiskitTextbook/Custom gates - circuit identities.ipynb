{
 "cells": [
  {
   "attachments": {},
   "cell_type": "markdown",
   "metadata": {},
   "source": [
    "## Custom gates - circuit identities\n",
    "from https://learn.qiskit.org/course/ch-gates/basic-circuit-identities"
   ]
  },
  {
   "attachments": {},
   "cell_type": "markdown",
   "metadata": {},
   "source": [
    "### Controlled-Z from H and CNOT"
   ]
  },
  {
   "cell_type": "code",
   "execution_count": 362,
   "metadata": {},
   "outputs": [],
   "source": [
    "from ipynb.fs.full.quantum_helpers import draw_statevector_ket, draw_statevector, draw_unitary, draw_qsphere\n",
    "from qiskit import QuantumCircuit\n",
    "c = 0\n",
    "t = 1"
   ]
  },
  {
   "cell_type": "code",
   "execution_count": 363,
   "metadata": {},
   "outputs": [
    {
     "data": {
      "text/html": [
       "<pre style=\"word-wrap: normal;white-space: pre;background: #fff0;line-height: 1.1;font-family: &quot;Courier New&quot;,Courier,monospace\">      ░                \n",
       "q_0: ─░────────■───────\n",
       "      ░ ┌───┐┌─┴─┐┌───┐\n",
       "q_1: ─░─┤ H ├┤ X ├┤ H ├\n",
       "      ░ └───┘└───┘└───┘</pre>"
      ],
      "text/plain": [
       "      ░                \n",
       "q_0: ─░────────■───────\n",
       "      ░ ┌───┐┌─┴─┐┌───┐\n",
       "q_1: ─░─┤ H ├┤ X ├┤ H ├\n",
       "      ░ └───┘└───┘└───┘"
      ]
     },
     "execution_count": 363,
     "metadata": {},
     "output_type": "execute_result"
    }
   ],
   "source": [
    "ckt = QuantumCircuit(2)\n",
    "# ckt.x(c)\n",
    "# controlled-Z\n",
    "ckt.barrier()\n",
    "ckt.h(t)\n",
    "ckt.cx(c, t)\n",
    "ckt.h(t)\n",
    "ckt.draw()"
   ]
  },
  {
   "cell_type": "code",
   "execution_count": 364,
   "metadata": {},
   "outputs": [
    {
     "data": {
      "text/latex": [
       "$$ |00\\rangle$$"
      ],
      "text/plain": [
       "<IPython.core.display.Latex object>"
      ]
     },
     "execution_count": 364,
     "metadata": {},
     "output_type": "execute_result"
    }
   ],
   "source": [
    "draw_statevector(ckt)"
   ]
  },
  {
   "cell_type": "code",
   "execution_count": 365,
   "metadata": {},
   "outputs": [
    {
     "data": {
      "text/latex": [
       "$$\n",
       "U=\n",
       "\\begin{bmatrix}\n",
       "1 & 0 & 0 & 0  \\\\\n",
       " 0 & 1 & 0 & 0  \\\\\n",
       " 0 & 0 & 1 & 0  \\\\\n",
       " 0 & 0 & 0 & -1  \\\\\n",
       " \\end{bmatrix}\n",
       "$$"
      ],
      "text/plain": [
       "<IPython.core.display.Latex object>"
      ]
     },
     "metadata": {},
     "output_type": "display_data"
    }
   ],
   "source": [
    "draw_unitary(ckt)"
   ]
  },
  {
   "attachments": {},
   "cell_type": "markdown",
   "metadata": {},
   "source": [
    "### Custom Pauli-Z gate"
   ]
  },
  {
   "cell_type": "code",
   "execution_count": 366,
   "metadata": {},
   "outputs": [
    {
     "data": {
      "text/html": [
       "<pre style=\"word-wrap: normal;white-space: pre;background: #fff0;line-height: 1.1;font-family: &quot;Courier New&quot;,Courier,monospace\">    ░ ┌───┐┌───┐┌───┐\n",
       "q: ─░─┤ H ├┤ X ├┤ H ├\n",
       "    ░ └───┘└───┘└───┘</pre>"
      ],
      "text/plain": [
       "    ░ ┌───┐┌───┐┌───┐\n",
       "q: ─░─┤ H ├┤ X ├┤ H ├\n",
       "    ░ └───┘└───┘└───┘"
      ]
     },
     "execution_count": 366,
     "metadata": {},
     "output_type": "execute_result"
    }
   ],
   "source": [
    "ckt = QuantumCircuit(1)\n",
    "# ckt.x(0) # flip\n",
    "ckt.barrier()\n",
    "# custom Z\n",
    "ckt.h(c)\n",
    "ckt.x(c)\n",
    "ckt.h(c)\n",
    "ckt.draw()"
   ]
  },
  {
   "cell_type": "code",
   "execution_count": 367,
   "metadata": {},
   "outputs": [
    {
     "data": {
      "text/latex": [
       "$$\n",
       "\\text{Statevector} = \n",
       "\\begin{bmatrix}\n",
       "1 & 0  \\\\\n",
       " \\end{bmatrix}\n",
       "$$"
      ],
      "text/plain": [
       "<IPython.core.display.Latex object>"
      ]
     },
     "execution_count": 367,
     "metadata": {},
     "output_type": "execute_result"
    }
   ],
   "source": [
    "draw_statevector_ket(ckt)"
   ]
  },
  {
   "cell_type": "code",
   "execution_count": 368,
   "metadata": {},
   "outputs": [
    {
     "data": {
      "text/latex": [
       "$$\n",
       "U=\n",
       "\\begin{bmatrix}\n",
       "1 & 0  \\\\\n",
       " 0 & -1  \\\\\n",
       " \\end{bmatrix}\n",
       "$$"
      ],
      "text/plain": [
       "<IPython.core.display.Latex object>"
      ]
     },
     "metadata": {},
     "output_type": "display_data"
    }
   ],
   "source": [
    "draw_unitary(ckt)"
   ]
  },
  {
   "attachments": {},
   "cell_type": "markdown",
   "metadata": {},
   "source": [
    "### Custom Controlled-Y"
   ]
  },
  {
   "cell_type": "code",
   "execution_count": 369,
   "metadata": {},
   "outputs": [
    {
     "data": {
      "text/html": [
       "<pre style=\"word-wrap: normal;white-space: pre;background: #fff0;line-height: 1.1;font-family: &quot;Courier New&quot;,Courier,monospace\">                      \n",
       "q_0: ─────────■───────\n",
       "     ┌─────┐┌─┴─┐┌───┐\n",
       "q_1: ┤ Sdg ├┤ X ├┤ S ├\n",
       "     └─────┘└───┘└───┘</pre>"
      ],
      "text/plain": [
       "                      \n",
       "q_0: ─────────■───────\n",
       "     ┌─────┐┌─┴─┐┌───┐\n",
       "q_1: ┤ Sdg ├┤ X ├┤ S ├\n",
       "     └─────┘└───┘└───┘"
      ]
     },
     "execution_count": 369,
     "metadata": {},
     "output_type": "execute_result"
    }
   ],
   "source": [
    "ckt = QuantumCircuit(2)\n",
    "# ckt.x(0)\n",
    "# controlled-Y\n",
    "ckt.sdg(t)\n",
    "ckt.cx(c, t)\n",
    "ckt.s(t)\n",
    "ckt.draw()"
   ]
  },
  {
   "cell_type": "code",
   "execution_count": 370,
   "metadata": {},
   "outputs": [
    {
     "data": {
      "text/latex": [
       "$$\n",
       "\\text{Statevector} = \n",
       "\\begin{bmatrix}\n",
       "1 & 0 & 0 & 0  \\\\\n",
       " \\end{bmatrix}\n",
       "$$"
      ],
      "text/plain": [
       "<IPython.core.display.Latex object>"
      ]
     },
     "execution_count": 370,
     "metadata": {},
     "output_type": "execute_result"
    }
   ],
   "source": [
    "draw_statevector_ket(ckt)"
   ]
  },
  {
   "cell_type": "code",
   "execution_count": 371,
   "metadata": {},
   "outputs": [
    {
     "data": {
      "text/latex": [
       "$$\n",
       "U=\n",
       "\\begin{bmatrix}\n",
       "1 & 0 & 0 & 0  \\\\\n",
       " 0 & 0 & 0 & - i  \\\\\n",
       " 0 & 0 & 1 & 0  \\\\\n",
       " 0 & i & 0 & 0  \\\\\n",
       " \\end{bmatrix}\n",
       "$$"
      ],
      "text/plain": [
       "<IPython.core.display.Latex object>"
      ]
     },
     "metadata": {},
     "output_type": "display_data"
    }
   ],
   "source": [
    "draw_unitary(ckt)"
   ]
  },
  {
   "attachments": {},
   "cell_type": "markdown",
   "metadata": {},
   "source": [
    "### Custom Controlled-H gate"
   ]
  },
  {
   "cell_type": "code",
   "execution_count": 372,
   "metadata": {},
   "outputs": [
    {
     "data": {
      "text/html": [
       "<pre style=\"word-wrap: normal;white-space: pre;background: #fff0;line-height: 1.1;font-family: &quot;Courier New&quot;,Courier,monospace\">                                 \n",
       "q_0: ─────────────■──────────────\n",
       "     ┌─────────┐┌─┴─┐┌──────────┐\n",
       "q_1: ┤ Ry(π/4) ├┤ X ├┤ Ry(-π/4) ├\n",
       "     └─────────┘└───┘└──────────┘</pre>"
      ],
      "text/plain": [
       "                                 \n",
       "q_0: ─────────────■──────────────\n",
       "     ┌─────────┐┌─┴─┐┌──────────┐\n",
       "q_1: ┤ Ry(π/4) ├┤ X ├┤ Ry(-π/4) ├\n",
       "     └─────────┘└───┘└──────────┘"
      ]
     },
     "execution_count": 372,
     "metadata": {},
     "output_type": "execute_result"
    }
   ],
   "source": [
    "# controlled-H\n",
    "from math import pi\n",
    "ckt = QuantumCircuit(2)\n",
    "# ckt.x(0)\n",
    "ckt.ry(pi/4, t)\n",
    "ckt.cx(c, t)\n",
    "ckt.ry(-pi/4, t)\n",
    "ckt.draw()"
   ]
  },
  {
   "cell_type": "code",
   "execution_count": 373,
   "metadata": {},
   "outputs": [
    {
     "data": {
      "text/latex": [
       "$$\n",
       "\\text{Statevector} = \n",
       "\\begin{bmatrix}\n",
       "1 & 0 & 0 & 0  \\\\\n",
       " \\end{bmatrix}\n",
       "$$"
      ],
      "text/plain": [
       "<IPython.core.display.Latex object>"
      ]
     },
     "execution_count": 373,
     "metadata": {},
     "output_type": "execute_result"
    }
   ],
   "source": [
    "draw_statevector_ket(ckt)"
   ]
  },
  {
   "cell_type": "code",
   "execution_count": 374,
   "metadata": {},
   "outputs": [
    {
     "data": {
      "text/latex": [
       "$$\n",
       "U=\n",
       "\\begin{bmatrix}\n",
       "1 & 0 & 0 & 0  \\\\\n",
       " 0 & \\frac{\\sqrt{2}}{2} & 0 & \\frac{\\sqrt{2}}{2}  \\\\\n",
       " 0 & 0 & 1 & 0  \\\\\n",
       " 0 & \\frac{\\sqrt{2}}{2} & 0 & - \\frac{\\sqrt{2}}{2}  \\\\\n",
       " \\end{bmatrix}\n",
       "$$"
      ],
      "text/plain": [
       "<IPython.core.display.Latex object>"
      ]
     },
     "metadata": {},
     "output_type": "display_data"
    }
   ],
   "source": [
    "draw_unitary(ckt)"
   ]
  },
  {
   "attachments": {},
   "cell_type": "markdown",
   "metadata": {},
   "source": [
    "### Custom SWAP gate"
   ]
  },
  {
   "cell_type": "code",
   "execution_count": 375,
   "metadata": {},
   "outputs": [
    {
     "data": {
      "text/html": [
       "<pre style=\"word-wrap: normal;white-space: pre;background: #fff0;line-height: 1.1;font-family: &quot;Courier New&quot;,Courier,monospace\">     ┌───┐     ┌───┐\n",
       "q_0: ┤ X ├──■──┤ X ├\n",
       "     └─┬─┘┌─┴─┐└─┬─┘\n",
       "q_1: ──■──┤ X ├──■──\n",
       "          └───┘     </pre>"
      ],
      "text/plain": [
       "     ┌───┐     ┌───┐\n",
       "q_0: ┤ X ├──■──┤ X ├\n",
       "     └─┬─┘┌─┴─┐└─┬─┘\n",
       "q_1: ──■──┤ X ├──■──\n",
       "          └───┘     "
      ]
     },
     "execution_count": 375,
     "metadata": {},
     "output_type": "execute_result"
    }
   ],
   "source": [
    "ckt = QuantumCircuit(2)\n",
    "# ckt.x([c, t])\n",
    "# swap gate\n",
    "ckt.cx(t, c)\n",
    "ckt.cx(c, t)\n",
    "ckt.cx(t, c)\n",
    "ckt.draw()"
   ]
  },
  {
   "cell_type": "code",
   "execution_count": 376,
   "metadata": {},
   "outputs": [
    {
     "data": {
      "text/latex": [
       "$$ |00\\rangle$$"
      ],
      "text/plain": [
       "<IPython.core.display.Latex object>"
      ]
     },
     "execution_count": 376,
     "metadata": {},
     "output_type": "execute_result"
    }
   ],
   "source": [
    "draw_statevector(ckt)"
   ]
  },
  {
   "cell_type": "code",
   "execution_count": 377,
   "metadata": {},
   "outputs": [
    {
     "data": {
      "text/latex": [
       "$$\n",
       "U=\n",
       "\\begin{bmatrix}\n",
       "1 & 0 & 0 & 0  \\\\\n",
       " 0 & 0 & 1 & 0  \\\\\n",
       " 0 & 1 & 0 & 0  \\\\\n",
       " 0 & 0 & 0 & 1  \\\\\n",
       " \\end{bmatrix}\n",
       "$$"
      ],
      "text/plain": [
       "<IPython.core.display.Latex object>"
      ]
     },
     "metadata": {},
     "output_type": "display_data"
    }
   ],
   "source": [
    "draw_unitary(ckt)"
   ]
  },
  {
   "attachments": {},
   "cell_type": "markdown",
   "metadata": {},
   "source": [
    "### Controlled rotations"
   ]
  },
  {
   "cell_type": "code",
   "execution_count": 378,
   "metadata": {},
   "outputs": [
    {
     "data": {
      "text/html": [
       "<pre style=\"word-wrap: normal;white-space: pre;background: #fff0;line-height: 1.1;font-family: &quot;Courier New&quot;,Courier,monospace\">                                      \n",
       "q_0: ─────────────■────────────────■──\n",
       "     ┌─────────┐┌─┴─┐┌──────────┐┌─┴─┐\n",
       "q_1: ┤ Ry(π/2) ├┤ X ├┤ Ry(-π/2) ├┤ X ├\n",
       "     └─────────┘└───┘└──────────┘└───┘</pre>"
      ],
      "text/plain": [
       "                                      \n",
       "q_0: ─────────────■────────────────■──\n",
       "     ┌─────────┐┌─┴─┐┌──────────┐┌─┴─┐\n",
       "q_1: ┤ Ry(π/2) ├┤ X ├┤ Ry(-π/2) ├┤ X ├\n",
       "     └─────────┘└───┘└──────────┘└───┘"
      ]
     },
     "execution_count": 378,
     "metadata": {},
     "output_type": "execute_result"
    }
   ],
   "source": [
    "ckt = QuantumCircuit(2)\n",
    "# controlled rotation\n",
    "theta = pi\n",
    "ckt.ry(theta/2, t)\n",
    "ckt.cx(c, t)\n",
    "ckt.ry(-theta/2, t)\n",
    "ckt.cx(c, t)\n",
    "ckt.draw()"
   ]
  },
  {
   "cell_type": "code",
   "execution_count": 379,
   "metadata": {},
   "outputs": [
    {
     "data": {
      "text/latex": [
       "$$\n",
       "\\text{Statevector} = \n",
       "\\begin{bmatrix}\n",
       "1 & 0 & 0 & 0  \\\\\n",
       " \\end{bmatrix}\n",
       "$$"
      ],
      "text/plain": [
       "<IPython.core.display.Latex object>"
      ]
     },
     "execution_count": 379,
     "metadata": {},
     "output_type": "execute_result"
    }
   ],
   "source": [
    "draw_statevector_ket(ckt)"
   ]
  },
  {
   "cell_type": "code",
   "execution_count": 380,
   "metadata": {},
   "outputs": [
    {
     "data": {
      "text/latex": [
       "$$\n",
       "U=\n",
       "\\begin{bmatrix}\n",
       "1 & 0 & 0 & 0  \\\\\n",
       " 0 & 0 & 0 & -1  \\\\\n",
       " 0 & 0 & 1 & 0  \\\\\n",
       " 0 & 1 & 0 & 0  \\\\\n",
       " \\end{bmatrix}\n",
       "$$"
      ],
      "text/plain": [
       "<IPython.core.display.Latex object>"
      ]
     },
     "metadata": {},
     "output_type": "display_data"
    }
   ],
   "source": [
    "draw_unitary(ckt)"
   ]
  },
  {
   "attachments": {},
   "cell_type": "markdown",
   "metadata": {},
   "source": [
    "### General Controlled Gate"
   ]
  },
  {
   "cell_type": "code",
   "execution_count": 381,
   "metadata": {},
   "outputs": [
    {
     "data": {
      "text/html": [
       "<pre style=\"word-wrap: normal;white-space: pre;background: #fff0;line-height: 1.1;font-family: &quot;Courier New&quot;,Courier,monospace\">                                     \n",
       "q_0: ─────────■────────────■───■─────\n",
       "            ┌─┴─┐        ┌─┴─┐ │     \n",
       "q_1: ─■─────┤ X ├─■──────┤ X ├─┼─────\n",
       "      │P(π) └───┘ │P(-π) └───┘ │P(π) \n",
       "q_2: ─■───────────■────────────■─────\n",
       "                                     </pre>"
      ],
      "text/plain": [
       "                                     \n",
       "q_0: ─────────■────────────■───■─────\n",
       "            ┌─┴─┐        ┌─┴─┐ │     \n",
       "q_1: ─■─────┤ X ├─■──────┤ X ├─┼─────\n",
       "      │P(π) └───┘ │P(-π) └───┘ │P(π) \n",
       "q_2: ─■───────────■────────────■─────\n",
       "                                     "
      ]
     },
     "execution_count": 381,
     "metadata": {},
     "output_type": "execute_result"
    }
   ],
   "source": [
    "ckt = QuantumCircuit(3)\n",
    "theta = pi\n",
    "a = 0\n",
    "b = 1\n",
    "t = 2\n",
    "\n",
    "# ckt.x(a)\n",
    "# ckt.x(b)\n",
    "\n",
    "ckt.cp(theta, b, t)\n",
    "ckt.cx(a, b)\n",
    "ckt.cp(-theta, b, t)\n",
    "ckt.cx(a, b)\n",
    "ckt.cp(theta, a, t)\n",
    "ckt.draw()"
   ]
  },
  {
   "cell_type": "code",
   "execution_count": 382,
   "metadata": {},
   "outputs": [
    {
     "data": {
      "text/latex": [
       "$$\n",
       "U=\n",
       "\\begin{bmatrix}\n",
       "1 & 0 & 0 & 0 & 0 & 0 & 0 & 0  \\\\\n",
       " 0 & 1 & 0 & 0 & 0 & 0 & 0 & 0  \\\\\n",
       " 0 & 0 & 1 & 0 & 0 & 0 & 0 & 0  \\\\\n",
       " 0 & 0 & 0 & 1 & 0 & 0 & 0 & 0  \\\\\n",
       " 0 & 0 & 0 & 0 & 1 & 0 & 0 & 0  \\\\\n",
       " 0 & 0 & 0 & 0 & 0 & 1 & 0 & 0  \\\\\n",
       " 0 & 0 & 0 & 0 & 0 & 0 & 1 & 0  \\\\\n",
       " 0 & 0 & 0 & 0 & 0 & 0 & 0 & 1  \\\\\n",
       " \\end{bmatrix}\n",
       "$$"
      ],
      "text/plain": [
       "<IPython.core.display.Latex object>"
      ]
     },
     "metadata": {},
     "output_type": "display_data"
    }
   ],
   "source": [
    "draw_unitary(ckt)"
   ]
  },
  {
   "attachments": {},
   "cell_type": "markdown",
   "metadata": {},
   "source": [
    "### Controlled-controlled-Hadamard"
   ]
  },
  {
   "cell_type": "code",
   "execution_count": 383,
   "metadata": {},
   "outputs": [
    {
     "data": {
      "text/html": [
       "<pre style=\"word-wrap: normal;white-space: pre;background: #fff0;line-height: 1.1;font-family: &quot;Courier New&quot;,Courier,monospace\">                  \n",
       "q_0: ──■───────■──\n",
       "       │       │  \n",
       "q_1: ──┼───■───┼──\n",
       "     ┌─┴─┐ │ ┌─┴─┐\n",
       "q_2: ┤ H ├─■─┤ H ├\n",
       "     └───┘   └───┘</pre>"
      ],
      "text/plain": [
       "                  \n",
       "q_0: ──■───────■──\n",
       "       │       │  \n",
       "q_1: ──┼───■───┼──\n",
       "     ┌─┴─┐ │ ┌─┴─┐\n",
       "q_2: ┤ H ├─■─┤ H ├\n",
       "     └───┘   └───┘"
      ]
     },
     "execution_count": 383,
     "metadata": {},
     "output_type": "execute_result"
    }
   ],
   "source": [
    "ckt = QuantumCircuit(3)\n",
    "ckt.ch(a, t)\n",
    "ckt.cz(b, t)\n",
    "ckt.ch(a, t)\n",
    "ckt.draw()"
   ]
  },
  {
   "cell_type": "code",
   "execution_count": 384,
   "metadata": {},
   "outputs": [
    {
     "data": {
      "text/latex": [
       "$$ |000\\rangle$$"
      ],
      "text/plain": [
       "<IPython.core.display.Latex object>"
      ]
     },
     "execution_count": 384,
     "metadata": {},
     "output_type": "execute_result"
    }
   ],
   "source": [
    "draw_statevector(ckt)"
   ]
  },
  {
   "attachments": {},
   "cell_type": "markdown",
   "metadata": {},
   "source": [
    "### Arbitrary rotations from H and T"
   ]
  },
  {
   "cell_type": "code",
   "execution_count": 385,
   "metadata": {},
   "outputs": [
    {
     "data": {
      "text/html": [
       "<pre style=\"word-wrap: normal;white-space: pre;background: #fff0;line-height: 1.1;font-family: &quot;Courier New&quot;,Courier,monospace\">   ┌───┐┌───┐┌───┐┌───┐┌───┐\n",
       "q: ┤ X ├┤ H ├┤ T ├┤ H ├┤ T ├\n",
       "   └───┘└───┘└───┘└───┘└───┘</pre>"
      ],
      "text/plain": [
       "   ┌───┐┌───┐┌───┐┌───┐┌───┐\n",
       "q: ┤ X ├┤ H ├┤ T ├┤ H ├┤ T ├\n",
       "   └───┘└───┘└───┘└───┘└───┘"
      ]
     },
     "execution_count": 385,
     "metadata": {},
     "output_type": "execute_result"
    }
   ],
   "source": [
    "ckt = QuantumCircuit(1)\n",
    "ckt.x(0)\n",
    "ckt.h(a)\n",
    "ckt.t(a)\n",
    "ckt.h(a)\n",
    "ckt.t(a)\n",
    "ckt.draw()"
   ]
  },
  {
   "cell_type": "code",
   "execution_count": 386,
   "metadata": {},
   "outputs": [
    {
     "data": {
      "text/latex": [
       "$$(0.146446609407 - 0.353553390593 i) |0\\rangle+(\\frac{\\sqrt{2}}{4} + \\frac{686 \\cdot 2^{\\frac{47}{48}} \\cdot 3^{\\frac{155}{192}} \\cdot 5^{\\frac{13}{96}} \\cdot 7^{\\frac{37}{96}} i}{10125}) |1\\rangle$$"
      ],
      "text/plain": [
       "<IPython.core.display.Latex object>"
      ]
     },
     "execution_count": 386,
     "metadata": {},
     "output_type": "execute_result"
    }
   ],
   "source": [
    "draw_statevector(ckt)"
   ]
  },
  {
   "cell_type": "code",
   "execution_count": 387,
   "metadata": {},
   "outputs": [
    {
     "data": {
      "image/png": "[encoded data removed]",
      "text/plain": [
       "<Figure size 700x700 with 2 Axes>"
      ]
     },
     "execution_count": 387,
     "metadata": {},
     "output_type": "execute_result"
    }
   ],
   "source": [
    "draw_qsphere(ckt)"
   ]
  },
  {
   "cell_type": "code",
   "execution_count": null,
   "metadata": {},
   "outputs": [],
   "source": []
  }
 ],
 "metadata": {
  "kernelspec": {
   "display_name": "qiskit-stable",
   "language": "python",
   "name": "python3"
  },
  "language_info": {
   "codemirror_mode": {
    "name": "ipython",
    "version": 3
   },
   "file_extension": ".py",
   "mimetype": "text/x-python",
   "name": "python",
   "nbconvert_exporter": "python",
   "pygments_lexer": "ipython3",
   "version": "3.10.9"
  },
  "orig_nbformat": 4,
  "vscode": {
   "interpreter": {
    "hash": "5e57c598d8b796f50b8e58b105692cee1ad0035480a8459f4e32847a9b3004de"
   }
  }
 },
 "nbformat": 4,
 "nbformat_minor": 2
}
