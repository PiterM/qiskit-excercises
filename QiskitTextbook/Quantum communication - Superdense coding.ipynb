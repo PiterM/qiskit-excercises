{
 "cells": [
  {
   "attachments": {},
   "cell_type": "markdown",
   "metadata": {},
   "source": [
    "## Quantum communication - Superdense coding\n",
    "from https://qiskit.org/textbook/ch-algorithms/superdense-coding.html"
   ]
  },
  {
   "cell_type": "code",
   "execution_count": 9,
   "metadata": {},
   "outputs": [
    {
     "data": {
      "text/html": [
       "<pre style=\"word-wrap: normal;white-space: pre;background: #fff0;line-height: 1.1;font-family: &quot;Courier New&quot;,Courier,monospace\">          ┌───┐\n",
       "q_0: ─────┤ X ├\n",
       "     ┌───┐└─┬─┘\n",
       "q_1: ┤ H ├──■──\n",
       "     └───┘     \n",
       "c: 2/══════════\n",
       "               </pre>"
      ],
      "text/plain": [
       "          ┌───┐\n",
       "q_0: ─────┤ X ├\n",
       "     ┌───┐└─┬─┘\n",
       "q_1: ┤ H ├──■──\n",
       "     └───┘     \n",
       "c: 2/══════════\n",
       "               "
      ]
     },
     "execution_count": 9,
     "metadata": {},
     "output_type": "execute_result"
    }
   ],
   "source": [
    "from qiskit import QuantumCircuit\n",
    "from qiskit.quantum_info import Statevector\n",
    "\n",
    "cktCharlie = QuantumCircuit(2, 2)\n",
    "cktCharlie.h(1)\n",
    "cktCharlie.cx(1, 0)\n",
    "cktCharlie.draw()"
   ]
  },
  {
   "cell_type": "code",
   "execution_count": 10,
   "metadata": {},
   "outputs": [
    {
     "data": {
      "text/latex": [
       "$$\\frac{\\sqrt{2}}{2} |00\\rangle+\\frac{\\sqrt{2}}{2} |11\\rangle$$"
      ],
      "text/plain": [
       "<IPython.core.display.Latex object>"
      ]
     },
     "execution_count": 10,
     "metadata": {},
     "output_type": "execute_result"
    }
   ],
   "source": [
    "ket = Statevector(cktCharlie)\n",
    "ket.draw(output=\"latex\")"
   ]
  },
  {
   "cell_type": "code",
   "execution_count": 11,
   "metadata": {},
   "outputs": [],
   "source": [
    "\n",
    "MESSAGE='11'\n",
    "cktAlice = QuantumCircuit(2, 2)"
   ]
  },
  {
   "cell_type": "code",
   "execution_count": 12,
   "metadata": {},
   "outputs": [
    {
     "data": {
      "text/latex": [
       "$$- |10\\rangle$$"
      ],
      "text/plain": [
       "<IPython.core.display.Latex object>"
      ]
     },
     "execution_count": 12,
     "metadata": {},
     "output_type": "execute_result"
    }
   ],
   "source": [
    "# cktAlice.h(1)\n",
    "# cktAlice.cx(1, 0)\n",
    "\n",
    "if MESSAGE[-1] == '1':\n",
    "  cktAlice.x(1)\n",
    "if MESSAGE[-2] == '1':\n",
    "  cktAlice.z(1)\n",
    "\n",
    "ket = Statevector(cktAlice)\n",
    "ket.draw(output=\"latex\")"
   ]
  },
  {
   "cell_type": "code",
   "execution_count": 13,
   "metadata": {},
   "outputs": [
    {
     "data": {
      "text/html": [
       "<pre style=\"word-wrap: normal;white-space: pre;background: #fff0;line-height: 1.1;font-family: &quot;Courier New&quot;,Courier,monospace\">     ┌───┐     ┌─┐   \n",
       "q_0: ┤ X ├─────┤M├───\n",
       "     └─┬─┘┌───┐└╥┘┌─┐\n",
       "q_1: ──■──┤ H ├─╫─┤M├\n",
       "          └───┘ ║ └╥┘\n",
       "c: 2/═══════════╩══╩═\n",
       "                0  1 </pre>"
      ],
      "text/plain": [
       "     ┌───┐     ┌─┐   \n",
       "q_0: ┤ X ├─────┤M├───\n",
       "     └─┬─┘┌───┐└╥┘┌─┐\n",
       "q_1: ──■──┤ H ├─╫─┤M├\n",
       "          └───┘ ║ └╥┘\n",
       "c: 2/═══════════╩══╩═\n",
       "                0  1 "
      ]
     },
     "execution_count": 13,
     "metadata": {},
     "output_type": "execute_result"
    }
   ],
   "source": [
    "from qiskit import Aer\n",
    "backend = Aer.get_backend(\"aer_simulator\")\n",
    "\n",
    "cktBob = QuantumCircuit(2, 2)\n",
    "cktBob.cx(1, 0)\n",
    "cktBob.h(1)\n",
    "cktBob.measure([0, 1], [0, 1])\n",
    "cktBob.draw()"
   ]
  },
  {
   "cell_type": "code",
   "execution_count": 14,
   "metadata": {},
   "outputs": [
    {
     "data": {
      "text/html": [
       "<pre style=\"word-wrap: normal;white-space: pre;background: #fff0;line-height: 1.1;font-family: &quot;Courier New&quot;,Courier,monospace\">          ┌───┐          ┌───┐     ┌─┐   \n",
       "q_0: ─────┤ X ├──────────┤ X ├─────┤M├───\n",
       "     ┌───┐└─┬─┘┌───┐┌───┐└─┬─┘┌───┐└╥┘┌─┐\n",
       "q_1: ┤ H ├──■──┤ X ├┤ Z ├──■──┤ H ├─╫─┤M├\n",
       "     └───┘     └───┘└───┘     └───┘ ║ └╥┘\n",
       "c: 2/═══════════════════════════════╩══╩═\n",
       "                                    0  1 </pre>"
      ],
      "text/plain": [
       "          ┌───┐          ┌───┐     ┌─┐   \n",
       "q_0: ─────┤ X ├──────────┤ X ├─────┤M├───\n",
       "     ┌───┐└─┬─┘┌───┐┌───┐└─┬─┘┌───┐└╥┘┌─┐\n",
       "q_1: ┤ H ├──■──┤ X ├┤ Z ├──■──┤ H ├─╫─┤M├\n",
       "     └───┘     └───┘└───┘     └───┘ ║ └╥┘\n",
       "c: 2/═══════════════════════════════╩══╩═\n",
       "                                    0  1 "
      ]
     },
     "execution_count": 14,
     "metadata": {},
     "output_type": "execute_result"
    }
   ],
   "source": [
    "completeCkt = cktCharlie.compose(cktAlice.compose(cktBob))\n",
    "completeCkt.draw()"
   ]
  },
  {
   "cell_type": "code",
   "execution_count": 15,
   "metadata": {},
   "outputs": [
    {
     "data": {
      "text/plain": [
       "{'11': 1024}"
      ]
     },
     "execution_count": 15,
     "metadata": {},
     "output_type": "execute_result"
    }
   ],
   "source": [
    "backend.run(completeCkt).result().get_counts()"
   ]
  }
 ],
 "metadata": {
  "kernelspec": {
   "display_name": "qiskit-stable",
   "language": "python",
   "name": "python3"
  },
  "language_info": {
   "codemirror_mode": {
    "name": "ipython",
    "version": 3
   },
   "file_extension": ".py",
   "mimetype": "text/x-python",
   "name": "python",
   "nbconvert_exporter": "python",
   "pygments_lexer": "ipython3",
   "version": "3.10.9"
  },
  "orig_nbformat": 4,
  "vscode": {
   "interpreter": {
    "hash": "5e57c598d8b796f50b8e58b105692cee1ad0035480a8459f4e32847a9b3004de"
   }
  }
 },
 "nbformat": 4,
 "nbformat_minor": 2
}
