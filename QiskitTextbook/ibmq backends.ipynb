{
 "cells": [
  {
   "cell_type": "code",
   "execution_count": 6,
   "metadata": {},
   "outputs": [
    {
     "name": "stdout",
     "output_type": "stream",
     "text": [
      "ibmq_qasm_simulator: 0 jobs, simulated qubits\n",
      "ibmq_lima: 16 jobs, 5 qubits\n",
      "ibmq_belem: 10 jobs, 5 qubits\n",
      "ibmq_quito: 0 jobs, 5 qubits\n",
      "simulator_statevector: 0 jobs, simulated qubits\n",
      "simulator_mps: 0 jobs, simulated qubits\n",
      "simulator_extended_stabilizer: 0 jobs, simulated qubits\n",
      "simulator_stabilizer: 0 jobs, simulated qubits\n",
      "ibmq_manila: 36 jobs, 5 qubits\n",
      "ibm_nairobi: 30 jobs, 7 qubits\n",
      "ibm_oslo: 15 jobs, 7 qubits\n"
     ]
    }
   ],
   "source": [
    "from qiskit import IBMQ\n",
    "\n",
    "provider = IBMQ.get_provider(\"ibm-q\")\n",
    "provider.backends()\n",
    "for backend in provider.backends():\n",
    "    try:\n",
    "        qubitCount = len(backend.properties().qubits)\n",
    "    except:\n",
    "        qubitCount = \"simulated\"\n",
    "    print(f\"{backend.name()}: {backend.status().pending_jobs} jobs, {qubitCount} qubits\")"
   ]
  }
 ],
 "metadata": {
  "kernelspec": {
   "display_name": "Python 3",
   "language": "python",
   "name": "python3"
  },
  "language_info": {
   "codemirror_mode": {
    "name": "ipython",
    "version": 3
   },
   "file_extension": ".py",
   "mimetype": "text/x-python",
   "name": "python",
   "nbconvert_exporter": "python",
   "pygments_lexer": "ipython3",
   "version": "3.10.9"
  },
  "orig_nbformat": 4,
  "vscode": {
   "interpreter": {
    "hash": "e7370f93d1d0cde622a1f8e1c04877d8463912d04d973331ad4851f04de6915a"
   }
  }
 },
 "nbformat": 4,
 "nbformat_minor": 2
}
