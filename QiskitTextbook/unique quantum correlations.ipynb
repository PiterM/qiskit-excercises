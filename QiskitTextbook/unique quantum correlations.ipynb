{
 "cells": [
  {
   "cell_type": "code",
   "execution_count": 36,
   "metadata": {},
   "outputs": [
    {
     "data": {
      "text/html": [
       "<pre style=\"word-wrap: normal;white-space: pre;background: #fff0;line-height: 1.1;font-family: &quot;Courier New&quot;,Courier,monospace\">                  ┌───┐┌───────────┐┌───┐┌───────────┐\n",
       "q_0: ─────────────┤ X ├┤ Ry(0.785) ├┤ X ├┤ Ry(2.356) ├\n",
       "     ┌───────────┐└─┬─┘└───────────┘└─┬─┘└───────────┘\n",
       "q_1: ┤ Ry(1.911) ├──■─────────────────■───────────────\n",
       "     └───────────┘                                    \n",
       "c: 2/═════════════════════════════════════════════════\n",
       "                                                      </pre>"
      ],
      "text/plain": [
       "                  ┌───┐┌───────────┐┌───┐┌───────────┐\n",
       "q_0: ─────────────┤ X ├┤ Ry(0.785) ├┤ X ├┤ Ry(2.356) ├\n",
       "     ┌───────────┐└─┬─┘└───────────┘└─┬─┘└───────────┘\n",
       "q_1: ┤ Ry(1.911) ├──■─────────────────■───────────────\n",
       "     └───────────┘                                    \n",
       "c: 2/═════════════════════════════════════════════════\n",
       "                                                      "
      ]
     },
     "execution_count": 36,
     "metadata": {},
     "output_type": "execute_result"
    }
   ],
   "source": [
    "from qiskit import QuantumCircuit\n",
    "qc_charlie = QuantumCircuit(2,2)\n",
    "qc_charlie.ry(1.911,1)\n",
    "qc_charlie.cx(1,0)\n",
    "qc_charlie.ry(0.785,0)\n",
    "qc_charlie.cx(1,0)\n",
    "qc_charlie.ry(2.356,0)\n",
    "\n",
    "qc_charlie.draw()"
   ]
  },
  {
   "cell_type": "code",
   "execution_count": 37,
   "metadata": {},
   "outputs": [
    {
     "data": {
      "text/latex": [
       "$$0.866110893547716 |00\\rangle-0.288573534755946 |01\\rangle-0.288739350101078 |10\\rangle-0.28845592873027 |11\\rangle$$"
      ],
      "text/plain": [
       "<IPython.core.display.Latex object>"
      ]
     },
     "execution_count": 37,
     "metadata": {},
     "output_type": "execute_result"
    }
   ],
   "source": [
    "meas_xx = QuantumCircuit(2,2)\n",
    "meas_xx.h([0, 1])\n",
    "from qiskit.quantum_info import Statevector\n",
    "ket = Statevector(qc_charlie.compose(meas_xx))\n",
    "ket.draw(output=\"latex\")"
   ]
  },
  {
   "cell_type": "code",
   "execution_count": 38,
   "metadata": {},
   "outputs": [
    {
     "name": "stdout",
     "output_type": "stream",
     "text": [
      "Results for z measurements:\n"
     ]
    },
    {
     "data": {
      "image/png": "[encoded data removed]",
      "text/plain": [
       "<Figure size 700x500 with 1 Axes>"
      ]
     },
     "execution_count": 38,
     "metadata": {},
     "output_type": "execute_result"
    }
   ],
   "source": [
    "from qiskit.visualization import plot_histogram\n",
    "from qiskit import Aer\n",
    "\n",
    "meas_xx.measure([0,1],[0,1])\n",
    "# meas_xx.reset(0)\n",
    "# meas_xx.reset(1)\n",
    "\n",
    "print('Results for z measurements:')\n",
    "backend = Aer.get_backend(\"aer_simulator\")\n",
    "counts = backend.run(qc_charlie.compose(meas_xx)).result().get_counts()\n",
    "plot_histogram([counts])"
   ]
  },
  {
   "cell_type": "code",
   "execution_count": null,
   "metadata": {},
   "outputs": [],
   "source": []
  }
 ],
 "metadata": {
  "kernelspec": {
   "display_name": "qiskit-stable",
   "language": "python",
   "name": "python3"
  },
  "language_info": {
   "codemirror_mode": {
    "name": "ipython",
    "version": 3
   },
   "file_extension": ".py",
   "mimetype": "text/x-python",
   "name": "python",
   "nbconvert_exporter": "python",
   "pygments_lexer": "ipython3",
   "version": "3.9.13"
  },
  "orig_nbformat": 4,
  "vscode": {
   "interpreter": {
    "hash": "5e57c598d8b796f50b8e58b105692cee1ad0035480a8459f4e32847a9b3004de"
   }
  }
 },
 "nbformat": 4,
 "nbformat_minor": 2
}
