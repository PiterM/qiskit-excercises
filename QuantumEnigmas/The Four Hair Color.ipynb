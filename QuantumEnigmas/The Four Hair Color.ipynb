{
 "cells": [
  {
   "attachments": {},
   "cell_type": "markdown",
   "metadata": {},
   "source": [
    "## The Four Hair Color\n",
    "from https://learn.qiskit.org/problem-sets/quantum_enigma_002/overview"
   ]
  },
  {
   "cell_type": "code",
   "execution_count": 39,
   "metadata": {},
   "outputs": [
    {
     "data": {
      "text/html": [
       "<pre style=\"word-wrap: normal;white-space: pre;background: #fff0;line-height: 1.1;font-family: &quot;Courier New&quot;,Courier,monospace\">     ┌───┐ ░ \n",
       "q_0: ┤ H ├─░─\n",
       "     ├───┤ ░ \n",
       "q_1: ┤ H ├─░─\n",
       "     ├───┤ ░ \n",
       "q_2: ┤ H ├─░─\n",
       "     ├───┤ ░ \n",
       "q_3: ┤ H ├─░─\n",
       "     └───┘ ░ \n",
       "q_4: ──────░─\n",
       "           ░ \n",
       "q_5: ──────░─\n",
       "           ░ \n",
       "q_6: ──────░─\n",
       "           ░ \n",
       "q_7: ──────░─\n",
       "           ░ </pre>"
      ],
      "text/plain": [
       "     ┌───┐ ░ \n",
       "q_0: ┤ H ├─░─\n",
       "     ├───┤ ░ \n",
       "q_1: ┤ H ├─░─\n",
       "     ├───┤ ░ \n",
       "q_2: ┤ H ├─░─\n",
       "     ├───┤ ░ \n",
       "q_3: ┤ H ├─░─\n",
       "     └───┘ ░ \n",
       "q_4: ──────░─\n",
       "           ░ \n",
       "q_5: ──────░─\n",
       "           ░ \n",
       "q_6: ──────░─\n",
       "           ░ \n",
       "q_7: ──────░─\n",
       "           ░ "
      ]
     },
     "execution_count": 39,
     "metadata": {},
     "output_type": "execute_result"
    }
   ],
   "source": [
    "from ipynb.fs.full.quantum_helpers import q_plot_histogram\n",
    "from qiskit import QuantumCircuit\n",
    "\n",
    "ckt = QuantumCircuit(8)\n",
    "a = 0\n",
    "b = 1\n",
    "c = 2\n",
    "d = 3\n",
    "aa = 4\n",
    "bb = 5\n",
    "cc = 6\n",
    "dd = 7\n",
    "ckt.h([a, b, c, d])\n",
    "ckt.barrier()\n",
    "ckt.draw()"
   ]
  },
  {
   "cell_type": "code",
   "execution_count": 40,
   "metadata": {},
   "outputs": [
    {
     "data": {
      "text/html": [
       "<pre style=\"word-wrap: normal;white-space: pre;background: #fff0;line-height: 1.1;font-family: &quot;Courier New&quot;,Courier,monospace\">     ┌───┐ ░                 ░ \n",
       "q_0: ┤ H ├─░─────────────────░─\n",
       "     ├───┤ ░                 ░ \n",
       "q_1: ┤ H ├─░───■─────────────░─\n",
       "     ├───┤ ░   │             ░ \n",
       "q_2: ┤ H ├─░───┼────■────────░─\n",
       "     ├───┤ ░   │    │        ░ \n",
       "q_3: ┤ H ├─░───┼────┼────■───░─\n",
       "     └───┘ ░ ┌─┴─┐┌─┴─┐┌─┴─┐ ░ \n",
       "q_4: ──────░─┤ X ├┤ X ├┤ X ├─░─\n",
       "           ░ └───┘└───┘└───┘ ░ \n",
       "q_5: ──────░─────────────────░─\n",
       "           ░                 ░ \n",
       "q_6: ──────░─────────────────░─\n",
       "           ░                 ░ \n",
       "q_7: ──────░─────────────────░─\n",
       "           ░                 ░ </pre>"
      ],
      "text/plain": [
       "     ┌───┐ ░                 ░ \n",
       "q_0: ┤ H ├─░─────────────────░─\n",
       "     ├───┤ ░                 ░ \n",
       "q_1: ┤ H ├─░───■─────────────░─\n",
       "     ├───┤ ░   │             ░ \n",
       "q_2: ┤ H ├─░───┼────■────────░─\n",
       "     ├───┤ ░   │    │        ░ \n",
       "q_3: ┤ H ├─░───┼────┼────■───░─\n",
       "     └───┘ ░ ┌─┴─┐┌─┴─┐┌─┴─┐ ░ \n",
       "q_4: ──────░─┤ X ├┤ X ├┤ X ├─░─\n",
       "           ░ └───┘└───┘└───┘ ░ \n",
       "q_5: ──────░─────────────────░─\n",
       "           ░                 ░ \n",
       "q_6: ──────░─────────────────░─\n",
       "           ░                 ░ \n",
       "q_7: ──────░─────────────────░─\n",
       "           ░                 ░ "
      ]
     },
     "execution_count": 40,
     "metadata": {},
     "output_type": "execute_result"
    }
   ],
   "source": [
    "# You check if the number of indigo hair color in front of you is even or odd\n",
    "ckt.cx(b, aa)\n",
    "ckt.cx(c, aa)\n",
    "ckt.cx(d, aa)\n",
    "ckt.barrier()\n",
    "ckt.draw()"
   ]
  },
  {
   "cell_type": "code",
   "execution_count": 41,
   "metadata": {},
   "outputs": [
    {
     "data": {
      "text/html": [
       "<pre style=\"word-wrap: normal;white-space: pre;background: #fff0;line-height: 1.1;font-family: &quot;Courier New&quot;,Courier,monospace\">     ┌───┐ ░                 ░                 ░ \n",
       "q_0: ┤ H ├─░─────────────────░─────────────────░─\n",
       "     ├───┤ ░                 ░                 ░ \n",
       "q_1: ┤ H ├─░───■─────────────░─────────────────░─\n",
       "     ├───┤ ░   │             ░                 ░ \n",
       "q_2: ┤ H ├─░───┼────■────────░─────────────────░─\n",
       "     ├───┤ ░   │    │        ░                 ░ \n",
       "q_3: ┤ H ├─░───┼────┼────■───░─────────────────░─\n",
       "     └───┘ ░ ┌─┴─┐┌─┴─┐┌─┴─┐ ░                 ░ \n",
       "q_4: ──────░─┤ X ├┤ X ├┤ X ├─░───■────■────■───░─\n",
       "           ░ └───┘└───┘└───┘ ░ ┌─┴─┐  │    │   ░ \n",
       "q_5: ──────░─────────────────░─┤ X ├──┼────┼───░─\n",
       "           ░                 ░ └───┘┌─┴─┐  │   ░ \n",
       "q_6: ──────░─────────────────░──────┤ X ├──┼───░─\n",
       "           ░                 ░      └───┘┌─┴─┐ ░ \n",
       "q_7: ──────░─────────────────░───────────┤ X ├─░─\n",
       "           ░                 ░           └───┘ ░ </pre>"
      ],
      "text/plain": [
       "     ┌───┐ ░                 ░                 ░ \n",
       "q_0: ┤ H ├─░─────────────────░─────────────────░─\n",
       "     ├───┤ ░                 ░                 ░ \n",
       "q_1: ┤ H ├─░───■─────────────░─────────────────░─\n",
       "     ├───┤ ░   │             ░                 ░ \n",
       "q_2: ┤ H ├─░───┼────■────────░─────────────────░─\n",
       "     ├───┤ ░   │    │        ░                 ░ \n",
       "q_3: ┤ H ├─░───┼────┼────■───░─────────────────░─\n",
       "     └───┘ ░ ┌─┴─┐┌─┴─┐┌─┴─┐ ░                 ░ \n",
       "q_4: ──────░─┤ X ├┤ X ├┤ X ├─░───■────■────■───░─\n",
       "           ░ └───┘└───┘└───┘ ░ ┌─┴─┐  │    │   ░ \n",
       "q_5: ──────░─────────────────░─┤ X ├──┼────┼───░─\n",
       "           ░                 ░ └───┘┌─┴─┐  │   ░ \n",
       "q_6: ──────░─────────────────░──────┤ X ├──┼───░─\n",
       "           ░                 ░      └───┘┌─┴─┐ ░ \n",
       "q_7: ──────░─────────────────░───────────┤ X ├─░─\n",
       "           ░                 ░           └───┘ ░ "
      ]
     },
     "execution_count": 41,
     "metadata": {},
     "output_type": "execute_result"
    }
   ],
   "source": [
    "# Everyone takes note of the answer\n",
    "ckt.cx(aa, bb)\n",
    "ckt.cx(aa, cc)\n",
    "ckt.cx(aa, dd)\n",
    "ckt.barrier()\n",
    "ckt.draw()"
   ]
  },
  {
   "cell_type": "code",
   "execution_count": 42,
   "metadata": {},
   "outputs": [
    {
     "data": {
      "text/html": [
       "<pre style=\"word-wrap: normal;white-space: pre;background: #fff0;line-height: 1.1;font-family: &quot;Courier New&quot;,Courier,monospace\">     ┌───┐ ░                 ░                 ░            ░ \n",
       "q_0: ┤ H ├─░─────────────────░─────────────────░────────────░─\n",
       "     ├───┤ ░                 ░                 ░            ░ \n",
       "q_1: ┤ H ├─░───■─────────────░─────────────────░────────────░─\n",
       "     ├───┤ ░   │             ░                 ░            ░ \n",
       "q_2: ┤ H ├─░───┼────■────────░─────────────────░───■────────░─\n",
       "     ├───┤ ░   │    │        ░                 ░   │        ░ \n",
       "q_3: ┤ H ├─░───┼────┼────■───░─────────────────░───┼────■───░─\n",
       "     └───┘ ░ ┌─┴─┐┌─┴─┐┌─┴─┐ ░                 ░   │    │   ░ \n",
       "q_4: ──────░─┤ X ├┤ X ├┤ X ├─░───■────■────■───░───┼────┼───░─\n",
       "           ░ └───┘└───┘└───┘ ░ ┌─┴─┐  │    │   ░ ┌─┴─┐┌─┴─┐ ░ \n",
       "q_5: ──────░─────────────────░─┤ X ├──┼────┼───░─┤ X ├┤ X ├─░─\n",
       "           ░                 ░ └───┘┌─┴─┐  │   ░ └───┘└───┘ ░ \n",
       "q_6: ──────░─────────────────░──────┤ X ├──┼───░────────────░─\n",
       "           ░                 ░      └───┘┌─┴─┐ ░            ░ \n",
       "q_7: ──────░─────────────────░───────────┤ X ├─░────────────░─\n",
       "           ░                 ░           └───┘ ░            ░ </pre>"
      ],
      "text/plain": [
       "     ┌───┐ ░                 ░                 ░            ░ \n",
       "q_0: ┤ H ├─░─────────────────░─────────────────░────────────░─\n",
       "     ├───┤ ░                 ░                 ░            ░ \n",
       "q_1: ┤ H ├─░───■─────────────░─────────────────░────────────░─\n",
       "     ├───┤ ░   │             ░                 ░            ░ \n",
       "q_2: ┤ H ├─░───┼────■────────░─────────────────░───■────────░─\n",
       "     ├───┤ ░   │    │        ░                 ░   │        ░ \n",
       "q_3: ┤ H ├─░───┼────┼────■───░─────────────────░───┼────■───░─\n",
       "     └───┘ ░ ┌─┴─┐┌─┴─┐┌─┴─┐ ░                 ░   │    │   ░ \n",
       "q_4: ──────░─┤ X ├┤ X ├┤ X ├─░───■────■────■───░───┼────┼───░─\n",
       "           ░ └───┘└───┘└───┘ ░ ┌─┴─┐  │    │   ░ ┌─┴─┐┌─┴─┐ ░ \n",
       "q_5: ──────░─────────────────░─┤ X ├──┼────┼───░─┤ X ├┤ X ├─░─\n",
       "           ░                 ░ └───┘┌─┴─┐  │   ░ └───┘└───┘ ░ \n",
       "q_6: ──────░─────────────────░──────┤ X ├──┼───░────────────░─\n",
       "           ░                 ░      └───┘┌─┴─┐ ░            ░ \n",
       "q_7: ──────░─────────────────░───────────┤ X ├─░────────────░─\n",
       "           ░                 ░           └───┘ ░            ░ "
      ]
     },
     "execution_count": 42,
     "metadata": {},
     "output_type": "execute_result"
    }
   ],
   "source": [
    "# Bob checks the parity of the hair color in front of him\n",
    "ckt.cx(c, bb)\n",
    "ckt.cx(d, bb)\n",
    "ckt.barrier()\n",
    "ckt.draw()"
   ]
  },
  {
   "cell_type": "code",
   "execution_count": 43,
   "metadata": {},
   "outputs": [
    {
     "data": {
      "text/html": [
       "<pre style=\"word-wrap: normal;white-space: pre;background: #fff0;line-height: 1.1;font-family: &quot;Courier New&quot;,Courier,monospace\">     ┌───┐ ░                 ░                 ░            ░            ░ \n",
       "q_0: ┤ H ├─░─────────────────░─────────────────░────────────░────────────░─\n",
       "     ├───┤ ░                 ░                 ░            ░            ░ \n",
       "q_1: ┤ H ├─░───■─────────────░─────────────────░────────────░────────────░─\n",
       "     ├───┤ ░   │             ░                 ░            ░            ░ \n",
       "q_2: ┤ H ├─░───┼────■────────░─────────────────░───■────────░────────────░─\n",
       "     ├───┤ ░   │    │        ░                 ░   │        ░            ░ \n",
       "q_3: ┤ H ├─░───┼────┼────■───░─────────────────░───┼────■───░────────────░─\n",
       "     └───┘ ░ ┌─┴─┐┌─┴─┐┌─┴─┐ ░                 ░   │    │   ░            ░ \n",
       "q_4: ──────░─┤ X ├┤ X ├┤ X ├─░───■────■────■───░───┼────┼───░────────────░─\n",
       "           ░ └───┘└───┘└───┘ ░ ┌─┴─┐  │    │   ░ ┌─┴─┐┌─┴─┐ ░            ░ \n",
       "q_5: ──────░─────────────────░─┤ X ├──┼────┼───░─┤ X ├┤ X ├─░───■────■───░─\n",
       "           ░                 ░ └───┘┌─┴─┐  │   ░ └───┘└───┘ ░ ┌─┴─┐  │   ░ \n",
       "q_6: ──────░─────────────────░──────┤ X ├──┼───░────────────░─┤ X ├──┼───░─\n",
       "           ░                 ░      └───┘┌─┴─┐ ░            ░ └───┘┌─┴─┐ ░ \n",
       "q_7: ──────░─────────────────░───────────┤ X ├─░────────────░──────┤ X ├─░─\n",
       "           ░                 ░           └───┘ ░            ░      └───┘ ░ </pre>"
      ],
      "text/plain": [
       "     ┌───┐ ░                 ░                 ░            ░            ░ \n",
       "q_0: ┤ H ├─░─────────────────░─────────────────░────────────░────────────░─\n",
       "     ├───┤ ░                 ░                 ░            ░            ░ \n",
       "q_1: ┤ H ├─░───■─────────────░─────────────────░────────────░────────────░─\n",
       "     ├───┤ ░   │             ░                 ░            ░            ░ \n",
       "q_2: ┤ H ├─░───┼────■────────░─────────────────░───■────────░────────────░─\n",
       "     ├───┤ ░   │    │        ░                 ░   │        ░            ░ \n",
       "q_3: ┤ H ├─░───┼────┼────■───░─────────────────░───┼────■───░────────────░─\n",
       "     └───┘ ░ ┌─┴─┐┌─┴─┐┌─┴─┐ ░                 ░   │    │   ░            ░ \n",
       "q_4: ──────░─┤ X ├┤ X ├┤ X ├─░───■────■────■───░───┼────┼───░────────────░─\n",
       "           ░ └───┘└───┘└───┘ ░ ┌─┴─┐  │    │   ░ ┌─┴─┐┌─┴─┐ ░            ░ \n",
       "q_5: ──────░─────────────────░─┤ X ├──┼────┼───░─┤ X ├┤ X ├─░───■────■───░─\n",
       "           ░                 ░ └───┘┌─┴─┐  │   ░ └───┘└───┘ ░ ┌─┴─┐  │   ░ \n",
       "q_6: ──────░─────────────────░──────┤ X ├──┼───░────────────░─┤ X ├──┼───░─\n",
       "           ░                 ░      └───┘┌─┴─┐ ░            ░ └───┘┌─┴─┐ ░ \n",
       "q_7: ──────░─────────────────░───────────┤ X ├─░────────────░──────┤ X ├─░─\n",
       "           ░                 ░           └───┘ ░            ░      └───┘ ░ "
      ]
     },
     "execution_count": 43,
     "metadata": {},
     "output_type": "execute_result"
    }
   ],
   "source": [
    "# Charlie and Dahlia take note of the answer\n",
    "ckt.cx(bb, cc)\n",
    "ckt.cx(bb, dd)\n",
    "ckt.barrier()\n",
    "ckt.draw()"
   ]
  },
  {
   "cell_type": "code",
   "execution_count": 44,
   "metadata": {},
   "outputs": [
    {
     "data": {
      "text/html": [
       "<pre style=\"word-wrap: normal;white-space: pre;background: #fff0;line-height: 1.1;font-family: &quot;Courier New&quot;,Courier,monospace\">     ┌───┐ ░                 ░                 ░            ░            ░ »\n",
       "q_0: ┤ H ├─░─────────────────░─────────────────░────────────░────────────░─»\n",
       "     ├───┤ ░                 ░                 ░            ░            ░ »\n",
       "q_1: ┤ H ├─░───■─────────────░─────────────────░────────────░────────────░─»\n",
       "     ├───┤ ░   │             ░                 ░            ░            ░ »\n",
       "q_2: ┤ H ├─░───┼────■────────░─────────────────░───■────────░────────────░─»\n",
       "     ├───┤ ░   │    │        ░                 ░   │        ░            ░ »\n",
       "q_3: ┤ H ├─░───┼────┼────■───░─────────────────░───┼────■───░────────────░─»\n",
       "     └───┘ ░ ┌─┴─┐┌─┴─┐┌─┴─┐ ░                 ░   │    │   ░            ░ »\n",
       "q_4: ──────░─┤ X ├┤ X ├┤ X ├─░───■────■────■───░───┼────┼───░────────────░─»\n",
       "           ░ └───┘└───┘└───┘ ░ ┌─┴─┐  │    │   ░ ┌─┴─┐┌─┴─┐ ░            ░ »\n",
       "q_5: ──────░─────────────────░─┤ X ├──┼────┼───░─┤ X ├┤ X ├─░───■────■───░─»\n",
       "           ░                 ░ └───┘┌─┴─┐  │   ░ └───┘└───┘ ░ ┌─┴─┐  │   ░ »\n",
       "q_6: ──────░─────────────────░──────┤ X ├──┼───░────────────░─┤ X ├──┼───░─»\n",
       "           ░                 ░      └───┘┌─┴─┐ ░            ░ └───┘┌─┴─┐ ░ »\n",
       "q_7: ──────░─────────────────░───────────┤ X ├─░────────────░──────┤ X ├─░─»\n",
       "           ░                 ░           └───┘ ░            ░      └───┘ ░ »\n",
       "«           ░ \n",
       "«q_0: ──────░─\n",
       "«           ░ \n",
       "«q_1: ──────░─\n",
       "«           ░ \n",
       "«q_2: ──────░─\n",
       "«           ░ \n",
       "«q_3: ──■───░─\n",
       "«       │   ░ \n",
       "«q_4: ──┼───░─\n",
       "«       │   ░ \n",
       "«q_5: ──┼───░─\n",
       "«     ┌─┴─┐ ░ \n",
       "«q_6: ┤ X ├─░─\n",
       "«     └───┘ ░ \n",
       "«q_7: ──────░─\n",
       "«           ░ </pre>"
      ],
      "text/plain": [
       "     ┌───┐ ░                 ░                 ░            ░            ░ »\n",
       "q_0: ┤ H ├─░─────────────────░─────────────────░────────────░────────────░─»\n",
       "     ├───┤ ░                 ░                 ░            ░            ░ »\n",
       "q_1: ┤ H ├─░───■─────────────░─────────────────░────────────░────────────░─»\n",
       "     ├───┤ ░   │             ░                 ░            ░            ░ »\n",
       "q_2: ┤ H ├─░───┼────■────────░─────────────────░───■────────░────────────░─»\n",
       "     ├───┤ ░   │    │        ░                 ░   │        ░            ░ »\n",
       "q_3: ┤ H ├─░───┼────┼────■───░─────────────────░───┼────■───░────────────░─»\n",
       "     └───┘ ░ ┌─┴─┐┌─┴─┐┌─┴─┐ ░                 ░   │    │   ░            ░ »\n",
       "q_4: ──────░─┤ X ├┤ X ├┤ X ├─░───■────■────■───░───┼────┼───░────────────░─»\n",
       "           ░ └───┘└───┘└───┘ ░ ┌─┴─┐  │    │   ░ ┌─┴─┐┌─┴─┐ ░            ░ »\n",
       "q_5: ──────░─────────────────░─┤ X ├──┼────┼───░─┤ X ├┤ X ├─░───■────■───░─»\n",
       "           ░                 ░ └───┘┌─┴─┐  │   ░ └───┘└───┘ ░ ┌─┴─┐  │   ░ »\n",
       "q_6: ──────░─────────────────░──────┤ X ├──┼───░────────────░─┤ X ├──┼───░─»\n",
       "           ░                 ░      └───┘┌─┴─┐ ░            ░ └───┘┌─┴─┐ ░ »\n",
       "q_7: ──────░─────────────────░───────────┤ X ├─░────────────░──────┤ X ├─░─»\n",
       "           ░                 ░           └───┘ ░            ░      └───┘ ░ »\n",
       "«           ░ \n",
       "«q_0: ──────░─\n",
       "«           ░ \n",
       "«q_1: ──────░─\n",
       "«           ░ \n",
       "«q_2: ──────░─\n",
       "«           ░ \n",
       "«q_3: ──■───░─\n",
       "«       │   ░ \n",
       "«q_4: ──┼───░─\n",
       "«       │   ░ \n",
       "«q_5: ──┼───░─\n",
       "«     ┌─┴─┐ ░ \n",
       "«q_6: ┤ X ├─░─\n",
       "«     └───┘ ░ \n",
       "«q_7: ──────░─\n",
       "«           ░ "
      ]
     },
     "execution_count": 44,
     "metadata": {},
     "output_type": "execute_result"
    }
   ],
   "source": [
    "# Charlie checks the parity of Dahlia's hair color\n",
    "ckt.cx(d, cc)\n",
    "ckt.barrier()\n",
    "ckt.draw()"
   ]
  },
  {
   "cell_type": "code",
   "execution_count": 45,
   "metadata": {},
   "outputs": [
    {
     "data": {
      "text/html": [
       "<pre style=\"word-wrap: normal;white-space: pre;background: #fff0;line-height: 1.1;font-family: &quot;Courier New&quot;,Courier,monospace\">     ┌───┐ ░                 ░                 ░            ░            ░ »\n",
       "q_0: ┤ H ├─░─────────────────░─────────────────░────────────░────────────░─»\n",
       "     ├───┤ ░                 ░                 ░            ░            ░ »\n",
       "q_1: ┤ H ├─░───■─────────────░─────────────────░────────────░────────────░─»\n",
       "     ├───┤ ░   │             ░                 ░            ░            ░ »\n",
       "q_2: ┤ H ├─░───┼────■────────░─────────────────░───■────────░────────────░─»\n",
       "     ├───┤ ░   │    │        ░                 ░   │        ░            ░ »\n",
       "q_3: ┤ H ├─░───┼────┼────■───░─────────────────░───┼────■───░────────────░─»\n",
       "     └───┘ ░ ┌─┴─┐┌─┴─┐┌─┴─┐ ░                 ░   │    │   ░            ░ »\n",
       "q_4: ──────░─┤ X ├┤ X ├┤ X ├─░───■────■────■───░───┼────┼───░────────────░─»\n",
       "           ░ └───┘└───┘└───┘ ░ ┌─┴─┐  │    │   ░ ┌─┴─┐┌─┴─┐ ░            ░ »\n",
       "q_5: ──────░─────────────────░─┤ X ├──┼────┼───░─┤ X ├┤ X ├─░───■────■───░─»\n",
       "           ░                 ░ └───┘┌─┴─┐  │   ░ └───┘└───┘ ░ ┌─┴─┐  │   ░ »\n",
       "q_6: ──────░─────────────────░──────┤ X ├──┼───░────────────░─┤ X ├──┼───░─»\n",
       "           ░                 ░      └───┘┌─┴─┐ ░            ░ └───┘┌─┴─┐ ░ »\n",
       "q_7: ──────░─────────────────░───────────┤ X ├─░────────────░──────┤ X ├─░─»\n",
       "           ░                 ░           └───┘ ░            ░      └───┘ ░ »\n",
       "«           ░      \n",
       "«q_0: ──────░──────\n",
       "«           ░      \n",
       "«q_1: ──────░──────\n",
       "«           ░      \n",
       "«q_2: ──────░──────\n",
       "«           ░      \n",
       "«q_3: ──■───░──────\n",
       "«       │   ░      \n",
       "«q_4: ──┼───░──────\n",
       "«       │   ░      \n",
       "«q_5: ──┼───░──────\n",
       "«     ┌─┴─┐ ░      \n",
       "«q_6: ┤ X ├─░───■──\n",
       "«     └───┘ ░ ┌─┴─┐\n",
       "«q_7: ──────░─┤ X ├\n",
       "«           ░ └───┘</pre>"
      ],
      "text/plain": [
       "     ┌───┐ ░                 ░                 ░            ░            ░ »\n",
       "q_0: ┤ H ├─░─────────────────░─────────────────░────────────░────────────░─»\n",
       "     ├───┤ ░                 ░                 ░            ░            ░ »\n",
       "q_1: ┤ H ├─░───■─────────────░─────────────────░────────────░────────────░─»\n",
       "     ├───┤ ░   │             ░                 ░            ░            ░ »\n",
       "q_2: ┤ H ├─░───┼────■────────░─────────────────░───■────────░────────────░─»\n",
       "     ├───┤ ░   │    │        ░                 ░   │        ░            ░ »\n",
       "q_3: ┤ H ├─░───┼────┼────■───░─────────────────░───┼────■───░────────────░─»\n",
       "     └───┘ ░ ┌─┴─┐┌─┴─┐┌─┴─┐ ░                 ░   │    │   ░            ░ »\n",
       "q_4: ──────░─┤ X ├┤ X ├┤ X ├─░───■────■────■───░───┼────┼───░────────────░─»\n",
       "           ░ └───┘└───┘└───┘ ░ ┌─┴─┐  │    │   ░ ┌─┴─┐┌─┴─┐ ░            ░ »\n",
       "q_5: ──────░─────────────────░─┤ X ├──┼────┼───░─┤ X ├┤ X ├─░───■────■───░─»\n",
       "           ░                 ░ └───┘┌─┴─┐  │   ░ └───┘└───┘ ░ ┌─┴─┐  │   ░ »\n",
       "q_6: ──────░─────────────────░──────┤ X ├──┼───░────────────░─┤ X ├──┼───░─»\n",
       "           ░                 ░      └───┘┌─┴─┐ ░            ░ └───┘┌─┴─┐ ░ »\n",
       "q_7: ──────░─────────────────░───────────┤ X ├─░────────────░──────┤ X ├─░─»\n",
       "           ░                 ░           └───┘ ░            ░      └───┘ ░ »\n",
       "«           ░      \n",
       "«q_0: ──────░──────\n",
       "«           ░      \n",
       "«q_1: ──────░──────\n",
       "«           ░      \n",
       "«q_2: ──────░──────\n",
       "«           ░      \n",
       "«q_3: ──■───░──────\n",
       "«       │   ░      \n",
       "«q_4: ──┼───░──────\n",
       "«       │   ░      \n",
       "«q_5: ──┼───░──────\n",
       "«     ┌─┴─┐ ░      \n",
       "«q_6: ┤ X ├─░───■──\n",
       "«     └───┘ ░ ┌─┴─┐\n",
       "«q_7: ──────░─┤ X ├\n",
       "«           ░ └───┘"
      ]
     },
     "execution_count": 45,
     "metadata": {},
     "output_type": "execute_result"
    }
   ],
   "source": [
    "# Dahlia takes note of Charlie's hair color\n",
    "ckt.cx(cc, dd)\n",
    "ckt.draw()"
   ]
  },
  {
   "cell_type": "code",
   "execution_count": 46,
   "metadata": {},
   "outputs": [
    {
     "name": "stdout",
     "output_type": "stream",
     "text": [
      "Backend: ibmq_qasm_simulator\n",
      "Job ID is cftpkg8pvdjh4fa5262g\n",
      "Job status is JobStatus.DONE\n",
      "Job result is SamplerResult(quasi_dists=[{205: 0.048828125, 153: 0.07421875, 84: 0.060546875, 0: 0.0576171875, 152: 0.0634765625, 171: 0.060546875, 204: 0.060546875, 50: 0.0693359375, 170: 0.0751953125, 85: 0.0546875, 103: 0.064453125, 255: 0.0693359375, 254: 0.0673828125, 1: 0.0625, 102: 0.05078125, 51: 0.060546875}], metadata=[{'header_metadata': {}, 'shots': 1024}])\n"
     ]
    },
    {
     "data": {
      "image/png": "[encoded data removed]",
      "text/plain": [
       "<Figure size 700x500 with 1 Axes>"
      ]
     },
     "execution_count": 46,
     "metadata": {},
     "output_type": "execute_result"
    }
   ],
   "source": [
    "ckt.measure_all()\n",
    "q_plot_histogram(ckt)"
   ]
  }
 ],
 "metadata": {
  "kernelspec": {
   "display_name": "qiskit-stable",
   "language": "python",
   "name": "python3"
  },
  "language_info": {
   "codemirror_mode": {
    "name": "ipython",
    "version": 3
   },
   "file_extension": ".py",
   "mimetype": "text/x-python",
   "name": "python",
   "nbconvert_exporter": "python",
   "pygments_lexer": "ipython3",
   "version": "3.10.9"
  },
  "orig_nbformat": 4,
  "vscode": {
   "interpreter": {
    "hash": "5e57c598d8b796f50b8e58b105692cee1ad0035480a8459f4e32847a9b3004de"
   }
  }
 },
 "nbformat": 4,
 "nbformat_minor": 2
}
