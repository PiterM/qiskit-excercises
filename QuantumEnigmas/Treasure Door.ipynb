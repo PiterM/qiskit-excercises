{
 "cells": [
  {
   "attachments": {},
   "cell_type": "markdown",
   "metadata": {},
   "source": [
    "## Quantum Enigma 001: Treasure Door\n",
    "from https://learn.qiskit.org/problem-sets/quantum_enigma_problem_set/overview"
   ]
  },
  {
   "cell_type": "code",
   "execution_count": 68,
   "metadata": {},
   "outputs": [],
   "source": [
    "from ipynb.fs.full.quantum_helpers import draw_histogram\n",
    "from qiskit import QuantumCircuit\n",
    "ckt = QuantumCircuit(3)\n",
    "a = 0\n",
    "b = 1\n",
    "c = 2"
   ]
  },
  {
   "cell_type": "code",
   "execution_count": 69,
   "metadata": {},
   "outputs": [
    {
     "data": {
      "text/html": [
       "<pre style=\"word-wrap: normal;white-space: pre;background: #fff0;line-height: 1.1;font-family: &quot;Courier New&quot;,Courier,monospace\">     ┌───┐      ░ \n",
       "q_0: ┤ H ├──■───░─\n",
       "     └───┘┌─┴─┐ ░ \n",
       "q_1: ─────┤ X ├─░─\n",
       "     ┌───┐└───┘ ░ \n",
       "q_2: ┤ H ├──────░─\n",
       "     └───┘      ░ </pre>"
      ],
      "text/plain": [
       "     ┌───┐      ░ \n",
       "q_0: ┤ H ├──■───░─\n",
       "     └───┘┌─┴─┐ ░ \n",
       "q_1: ─────┤ X ├─░─\n",
       "     ┌───┐└───┘ ░ \n",
       "q_2: ┤ H ├──────░─\n",
       "     └───┘      ░ "
      ]
     },
     "execution_count": 69,
     "metadata": {},
     "output_type": "execute_result"
    }
   ],
   "source": [
    "ckt.h([a, c])\n",
    "ckt.cx(a, b)\n",
    "ckt.barrier()\n",
    "ckt.draw()"
   ]
  },
  {
   "cell_type": "code",
   "execution_count": 70,
   "metadata": {},
   "outputs": [
    {
     "data": {
      "text/html": [
       "<pre style=\"word-wrap: normal;white-space: pre;background: #fff0;line-height: 1.1;font-family: &quot;Courier New&quot;,Courier,monospace\">     ┌───┐      ░           ┌───┐      ░ \n",
       "q_0: ┤ H ├──■───░───────────┤ X ├──────░─\n",
       "     └───┘┌─┴─┐ ░ ┌───┐     └─┬─┘      ░ \n",
       "q_1: ─────┤ X ├─░─┤ X ├───────┼────────░─\n",
       "     ┌───┐└───┘ ░ └─┬─┘┌───┐  │  ┌───┐ ░ \n",
       "q_2: ┤ H ├──────░───■──┤ X ├──■──┤ X ├─░─\n",
       "     └───┘      ░      └───┘     └───┘ ░ </pre>"
      ],
      "text/plain": [
       "     ┌───┐      ░           ┌───┐      ░ \n",
       "q_0: ┤ H ├──■───░───────────┤ X ├──────░─\n",
       "     └───┘┌─┴─┐ ░ ┌───┐     └─┬─┘      ░ \n",
       "q_1: ─────┤ X ├─░─┤ X ├───────┼────────░─\n",
       "     ┌───┐└───┘ ░ └─┬─┘┌───┐  │  ┌───┐ ░ \n",
       "q_2: ┤ H ├──────░───■──┤ X ├──■──┤ X ├─░─\n",
       "     └───┘      ░      └───┘     └───┘ ░ "
      ]
     },
     "execution_count": 70,
     "metadata": {},
     "output_type": "execute_result"
    }
   ],
   "source": [
    "ckt.cx(c, b)\n",
    "ckt.x(c)\n",
    "ckt.cx(c, a)\n",
    "ckt.x(c)\n",
    "ckt.barrier()\n",
    "ckt.draw()"
   ]
  },
  {
   "cell_type": "code",
   "execution_count": 71,
   "metadata": {},
   "outputs": [
    {
     "data": {
      "text/html": [
       "<pre style=\"word-wrap: normal;white-space: pre;background: #fff0;line-height: 1.1;font-family: &quot;Courier New&quot;,Courier,monospace\">     ┌───┐      ░           ┌───┐      ░    ┌───┐          ┌───┐     \n",
       "q_0: ┤ H ├──■───░───────────┤ X ├──────░──X─┤ X ├──────────┤ X ├─────\n",
       "     └───┘┌─┴─┐ ░ ┌───┐     └─┬─┘      ░  │ ├───┤┌───┐     └─┬─┘     \n",
       "q_1: ─────┤ X ├─░─┤ X ├───────┼────────░──X─┤ X ├┤ X ├───────┼───────\n",
       "     ┌───┐└───┘ ░ └─┬─┘┌───┐  │  ┌───┐ ░    └───┘└─┬─┘┌───┐  │  ┌───┐\n",
       "q_2: ┤ H ├──────░───■──┤ X ├──■──┤ X ├─░───────────■──┤ X ├──■──┤ X ├\n",
       "     └───┘      ░      └───┘     └───┘ ░              └───┘     └───┘</pre>"
      ],
      "text/plain": [
       "     ┌───┐      ░           ┌───┐      ░    ┌───┐          ┌───┐     \n",
       "q_0: ┤ H ├──■───░───────────┤ X ├──────░──X─┤ X ├──────────┤ X ├─────\n",
       "     └───┘┌─┴─┐ ░ ┌───┐     └─┬─┘      ░  │ ├───┤┌───┐     └─┬─┘     \n",
       "q_1: ─────┤ X ├─░─┤ X ├───────┼────────░──X─┤ X ├┤ X ├───────┼───────\n",
       "     ┌───┐└───┘ ░ └─┬─┘┌───┐  │  ┌───┐ ░    └───┘└─┬─┘┌───┐  │  ┌───┐\n",
       "q_2: ┤ H ├──────░───■──┤ X ├──■──┤ X ├─░───────────■──┤ X ├──■──┤ X ├\n",
       "     └───┘      ░      └───┘     └───┘ ░              └───┘     └───┘"
      ]
     },
     "execution_count": 71,
     "metadata": {},
     "output_type": "execute_result"
    }
   ],
   "source": [
    "ckt.swap(a, b)\n",
    "ckt.x(a)\n",
    "ckt.x(b)\n",
    "ckt.cx(c, b)\n",
    "ckt.x(c)\n",
    "ckt.cx(c, a)\n",
    "ckt.x(c)\n",
    "ckt.draw()"
   ]
  },
  {
   "cell_type": "code",
   "execution_count": 72,
   "metadata": {},
   "outputs": [
    {
     "data": {
      "image/png": "[encoded data removed]",
      "text/plain": [
       "<Figure size 700x500 with 1 Axes>"
      ]
     },
     "execution_count": 72,
     "metadata": {},
     "output_type": "execute_result"
    }
   ],
   "source": [
    "ckt.measure_all()\n",
    "draw_histogram(ckt)"
   ]
  },
  {
   "attachments": {},
   "cell_type": "markdown",
   "metadata": {},
   "source": [
    "Są cztery możliwości:\n",
    "- 000: skarb jest na prawo (00) i prawy strażnik kłamie (0)\n",
    "- 011: skarb jest na lewo (11) i prawy strażnik kłamie (0)\n",
    "- 100: skarb jest na prawo (00) i lewy strażnik kłamie (1)\n",
    "- 111: skarb jest na lewo (11) i lewy strażnik kłamie (1)"
   ]
  }
 ],
 "metadata": {
  "kernelspec": {
   "display_name": "qiskit-stable",
   "language": "python",
   "name": "python3"
  },
  "language_info": {
   "codemirror_mode": {
    "name": "ipython",
    "version": 3
   },
   "file_extension": ".py",
   "mimetype": "text/x-python",
   "name": "python",
   "nbconvert_exporter": "python",
   "pygments_lexer": "ipython3",
   "version": "3.10.9"
  },
  "orig_nbformat": 4,
  "vscode": {
   "interpreter": {
    "hash": "5e57c598d8b796f50b8e58b105692cee1ad0035480a8459f4e32847a9b3004de"
   }
  }
 },
 "nbformat": 4,
 "nbformat_minor": 2
}
