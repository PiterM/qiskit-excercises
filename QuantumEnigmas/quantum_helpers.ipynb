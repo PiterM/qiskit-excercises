{
 "cells": [
  {
   "cell_type": "code",
   "execution_count": 1,
   "metadata": {},
   "outputs": [],
   "source": [
    "def get_counts(ckt):\n",
    "  from qiskit import Aer\n",
    "  ckt_copy = ckt.copy()\n",
    "  sim = Aer.get_backend('aer_simulator')\n",
    "  return sim.run(ckt_copy).result().get_counts()\n",
    "  "
   ]
  },
  {
   "cell_type": "code",
   "execution_count": 2,
   "metadata": {},
   "outputs": [],
   "source": [
    "def draw_histogram(ckt):\n",
    "  from qiskit.visualization import plot_histogram\n",
    "  import matplotlib.pyplot as plt\n",
    "  plt.style.use('dark_background')\n",
    "  return plot_histogram(get_counts(ckt))"
   ]
  },
  {
   "cell_type": "code",
   "execution_count": 3,
   "metadata": {},
   "outputs": [],
   "source": [
    "def list_backends():  \n",
    "    from qiskit_ibm_runtime import QiskitRuntimeService\n",
    "    service = QiskitRuntimeService()\n",
    "\n",
    "    for backend in service.backends():\n",
    "        qubit_count = backend.num_qubits\n",
    "        print(f\"{backend.name}: {backend.status().pending_jobs} jobs, {qubit_count} qubits\")"
   ]
  },
  {
   "cell_type": "code",
   "execution_count": 4,
   "metadata": {},
   "outputs": [],
   "source": [
    "def draw_statevector(ckt, output=\"latex\"):\n",
    "  from qiskit.quantum_info import Statevector\n",
    "  ket = Statevector(ckt)\n",
    "  return ket.draw(output=output)"
   ]
  },
  {
   "cell_type": "code",
   "execution_count": 5,
   "metadata": {},
   "outputs": [],
   "source": [
    "def draw_statevector_ket(ckt):\n",
    "  from qiskit.quantum_info import Statevector\n",
    "  from qiskit.visualization import array_to_latex\n",
    "  ket = Statevector(ckt)    \n",
    "  return array_to_latex(ket, prefix=\"\\\\text{Statevector} = \")\n",
    "  "
   ]
  },
  {
   "cell_type": "code",
   "execution_count": 1,
   "metadata": {},
   "outputs": [],
   "source": [
    "def draw_unitary(ckt, prefix=\"\"):\n",
    "    \"\"\"Simulates a simple circuit and display its matrix representation.\n",
    "    Args:\n",
    "        qc (QuantumCircuit): The circuit to compile to a unitary matrix\n",
    "        prefix (str): Optional LaTeX to be displayed before the matrix\n",
    "    Returns:\n",
    "        None (displays matrix as side effect)\n",
    "    \"\"\"\n",
    "    from qiskit import Aer\n",
    "    from qiskit.visualization import array_to_latex\n",
    "    sim = Aer.get_backend('aer_simulator')\n",
    "    # Next, we'll create a copy of the circuit and work on\n",
    "    # that so we don't change anything as a side effect\n",
    "    ckt_copy = ckt.copy()\n",
    "    # Tell the simulator to save the unitary matrix of this circuit\n",
    "    ckt_copy.save_unitary()\n",
    "    unitary = sim.run(ckt_copy).result().get_unitary()\n",
    "    return display(array_to_latex(unitary, prefix=\"U=\"))"
   ]
  },
  {
   "cell_type": "code",
   "execution_count": null,
   "metadata": {},
   "outputs": [],
   "source": [
    "def draw_qsphere(ckt):\n",
    "  from qiskit import Aer, assemble\n",
    "  from qiskit.visualization import plot_state_qsphere\n",
    "  sim = Aer.get_backend('aer_simulator')\n",
    "  ckt_copy = ckt.copy()\n",
    "  ckt_copy.save_statevector()\n",
    "  qobj = assemble(ckt_copy)\n",
    "  result = sim.run(qobj).result()\n",
    "  state = result.get_statevector()\n",
    "  return plot_state_qsphere(state)"
   ]
  },
  {
   "cell_type": "code",
   "execution_count": null,
   "metadata": {},
   "outputs": [],
   "source": [
    "def q_plot_histogram(ckt, backend=\"ibmq_qasm_simulator\"):\n",
    "  from qiskit_ibm_runtime import QiskitRuntimeService, Session, Options, Sampler\n",
    "  from qiskit.visualization import plot_histogram\n",
    "  import matplotlib.pyplot as plt\n",
    "\n",
    "  service = QiskitRuntimeService()\n",
    "  options = Options(optimization_level=1)\n",
    "  options.execution.shots = 1024\n",
    "\n",
    "  with Session(service=service, backend=backend) as session:\n",
    "      sampler = Sampler(session=session, options=options)\n",
    "      job = sampler.run(circuits=ckt)\n",
    "      result = job.result()\n",
    "      print(f\"Backend: {backend}\")\n",
    "      print(f\"Job ID is {job.job_id()}\")\n",
    "      print(f\"Job status is {job.status()}\")\n",
    "      print(f\"Job result is {result}\")\n",
    "      plt.style.use('dark_background')\n",
    "      distribution = result.quasi_dists[0].binary_probabilities()\n",
    "      return plot_histogram(distribution)"
   ]
  }
 ],
 "metadata": {
  "kernelspec": {
   "display_name": "qiskit-stable",
   "language": "python",
   "name": "python3"
  },
  "language_info": {
   "codemirror_mode": {
    "name": "ipython",
    "version": 3
   },
   "file_extension": ".py",
   "mimetype": "text/x-python",
   "name": "python",
   "nbconvert_exporter": "python",
   "pygments_lexer": "ipython3",
   "version": "3.10.9"
  },
  "orig_nbformat": 4,
  "vscode": {
   "interpreter": {
    "hash": "5e57c598d8b796f50b8e58b105692cee1ad0035480a8459f4e32847a9b3004de"
   }
  }
 },
 "nbformat": 4,
 "nbformat_minor": 2
}
